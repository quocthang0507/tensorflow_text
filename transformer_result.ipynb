{
  "nbformat": 4,
  "nbformat_minor": 0,
  "metadata": {
    "colab": {
      "name": "transformer_result",
      "provenance": [],
      "collapsed_sections": [],
      "authorship_tag": "ABX9TyMS02BsEiyNg6s3ufKEcWUy",
      "include_colab_link": true
    },
    "kernelspec": {
      "name": "python3",
      "display_name": "Python 3"
    },
    "language_info": {
      "name": "python"
    }
  },
  "cells": [
    {
      "cell_type": "markdown",
      "metadata": {
        "id": "view-in-github",
        "colab_type": "text"
      },
      "source": [
        "<a href=\"https://colab.research.google.com/github/quocthang0507/tensorflow_text/blob/main/transformer_result.ipynb\" target=\"_parent\"><img src=\"https://colab.research.google.com/assets/colab-badge.svg\" alt=\"Open In Colab\"/></a>"
      ]
    },
    {
      "cell_type": "markdown",
      "metadata": {
        "id": "L56U4kTIVqIj"
      },
      "source": [
        "# Transformer model for language understanding"
      ]
    },
    {
      "cell_type": "code",
      "metadata": {
        "colab": {
          "base_uri": "https://localhost:8080/"
        },
        "id": "Xc5bMzQHVpEQ",
        "outputId": "3ffad920-55cd-4f5b-c62c-f849a9715412"
      },
      "source": [
        "!pip install -q tfds-nightly\n",
        "\n",
        "# Pin matplotlib version to 3.2.2 since in the latest version\n",
        "# transformer.ipynb fails with the following error:\n",
        "# https://stackoverflow.com/questions/62953704/valueerror-the-number-of-fixedlocator-locations-5-usually-from-a-call-to-set\n",
        "!pip install matplotlib==3.2.2"
      ],
      "execution_count": null,
      "outputs": [
        {
          "output_type": "stream",
          "text": [
            "Requirement already satisfied: matplotlib==3.2.2 in /usr/local/lib/python3.7/dist-packages (3.2.2)\n",
            "Requirement already satisfied: numpy>=1.11 in /usr/local/lib/python3.7/dist-packages (from matplotlib==3.2.2) (1.19.5)\n",
            "Requirement already satisfied: python-dateutil>=2.1 in /usr/local/lib/python3.7/dist-packages (from matplotlib==3.2.2) (2.8.2)\n",
            "Requirement already satisfied: kiwisolver>=1.0.1 in /usr/local/lib/python3.7/dist-packages (from matplotlib==3.2.2) (1.3.1)\n",
            "Requirement already satisfied: pyparsing!=2.0.4,!=2.1.2,!=2.1.6,>=2.0.1 in /usr/local/lib/python3.7/dist-packages (from matplotlib==3.2.2) (2.4.7)\n",
            "Requirement already satisfied: cycler>=0.10 in /usr/local/lib/python3.7/dist-packages (from matplotlib==3.2.2) (0.10.0)\n",
            "Requirement already satisfied: six in /usr/local/lib/python3.7/dist-packages (from cycler>=0.10->matplotlib==3.2.2) (1.15.0)\n"
          ],
          "name": "stdout"
        }
      ]
    },
    {
      "cell_type": "code",
      "metadata": {
        "id": "fskps1wJVurK"
      },
      "source": [
        "import tensorflow_datasets as tfds\n",
        "import tensorflow as tf\n",
        "\n",
        "import time\n",
        "import numpy as np\n",
        "import matplotlib.pyplot as plt"
      ],
      "execution_count": null,
      "outputs": []
    },
    {
      "cell_type": "markdown",
      "metadata": {
        "id": "MWPZ9NNvVw7h"
      },
      "source": [
        "## Setup input pipeline"
      ]
    },
    {
      "cell_type": "code",
      "metadata": {
        "id": "RHW5-kzsVxls"
      },
      "source": [
        "examples, metadata = tfds.load('ted_hrlr_translate/pt_to_en', with_info=True,\n",
        "                               as_supervised=True)\n",
        "train_examples, val_examples = examples['train'], examples['validation']"
      ],
      "execution_count": null,
      "outputs": []
    },
    {
      "cell_type": "code",
      "metadata": {
        "id": "Djm0ESZ0V4o9"
      },
      "source": [
        "tokenizer_en = tfds.deprecated.text.SubwordTextEncoder.build_from_corpus(\n",
        "    (en.numpy() for pt, en in train_examples), target_vocab_size=2**13)\n",
        "\n",
        "tokenizer_pt = tfds.deprecated.text.SubwordTextEncoder.build_from_corpus(\n",
        "    (pt.numpy() for pt, en in train_examples), target_vocab_size=2**13)"
      ],
      "execution_count": null,
      "outputs": []
    },
    {
      "cell_type": "code",
      "metadata": {
        "id": "hQGcVOWHV6Qf",
        "colab": {
          "base_uri": "https://localhost:8080/"
        },
        "outputId": "072877b4-423b-4cea-f120-6e18cec8319f"
      },
      "source": [
        "sample_string = 'Transformer is awesome.'\n",
        "\n",
        "tokenized_string = tokenizer_en.encode(sample_string)\n",
        "print ('Tokenized string is {}'.format(tokenized_string))\n",
        "\n",
        "original_string = tokenizer_en.decode(tokenized_string)\n",
        "print ('The original string: {}'.format(original_string))\n",
        "\n",
        "assert original_string == sample_string"
      ],
      "execution_count": null,
      "outputs": [
        {
          "output_type": "stream",
          "text": [
            "Tokenized string is [7915, 1248, 7946, 7194, 13, 2799, 7877]\n",
            "The original string: Transformer is awesome.\n"
          ],
          "name": "stdout"
        }
      ]
    },
    {
      "cell_type": "code",
      "metadata": {
        "id": "c4JacOb9V70u",
        "colab": {
          "base_uri": "https://localhost:8080/"
        },
        "outputId": "71c3251b-f84b-4ed0-9727-13c383c89054"
      },
      "source": [
        "for ts in tokenized_string:\n",
        "  print ('{} ----> {}'.format(ts, tokenizer_en.decode([ts])))"
      ],
      "execution_count": null,
      "outputs": [
        {
          "output_type": "stream",
          "text": [
            "7915 ----> T\n",
            "1248 ----> ran\n",
            "7946 ----> s\n",
            "7194 ----> former \n",
            "13 ----> is \n",
            "2799 ----> awesome\n",
            "7877 ----> .\n"
          ],
          "name": "stdout"
        }
      ]
    },
    {
      "cell_type": "code",
      "metadata": {
        "id": "HfMknTZkV9Fj"
      },
      "source": [
        "BUFFER_SIZE = 20000\n",
        "BATCH_SIZE = 64"
      ],
      "execution_count": null,
      "outputs": []
    },
    {
      "cell_type": "code",
      "metadata": {
        "id": "Izsp7l5gV-cO"
      },
      "source": [
        "def encode(lang1, lang2):\n",
        "  lang1 = [tokenizer_pt.vocab_size] + tokenizer_pt.encode(\n",
        "      lang1.numpy()) + [tokenizer_pt.vocab_size+1]\n",
        "\n",
        "  lang2 = [tokenizer_en.vocab_size] + tokenizer_en.encode(\n",
        "      lang2.numpy()) + [tokenizer_en.vocab_size+1]\n",
        "  \n",
        "  return lang1, lang2"
      ],
      "execution_count": null,
      "outputs": []
    },
    {
      "cell_type": "code",
      "metadata": {
        "id": "VpQVZEayV_6y"
      },
      "source": [
        "def tf_encode(pt, en):\n",
        "  result_pt, result_en = tf.py_function(encode, [pt, en], [tf.int64, tf.int64])\n",
        "  result_pt.set_shape([None])\n",
        "  result_en.set_shape([None])\n",
        "\n",
        "  return result_pt, result_en"
      ],
      "execution_count": null,
      "outputs": []
    },
    {
      "cell_type": "code",
      "metadata": {
        "id": "NUqtTqvPWBmH"
      },
      "source": [
        "MAX_LENGTH = 40"
      ],
      "execution_count": null,
      "outputs": []
    },
    {
      "cell_type": "code",
      "metadata": {
        "id": "Dqw7J74-WCys"
      },
      "source": [
        "def filter_max_length(x, y, max_length=MAX_LENGTH):\n",
        "  return tf.logical_and(tf.size(x) <= max_length,\n",
        "                        tf.size(y) <= max_length)"
      ],
      "execution_count": null,
      "outputs": []
    },
    {
      "cell_type": "code",
      "metadata": {
        "id": "oLoZpjiZWEgw"
      },
      "source": [
        "train_dataset = train_examples.map(tf_encode)\n",
        "train_dataset = train_dataset.filter(filter_max_length)\n",
        "# cache the dataset to memory to get a speedup while reading from it.\n",
        "train_dataset = train_dataset.cache()\n",
        "train_dataset = train_dataset.shuffle(BUFFER_SIZE).padded_batch(BATCH_SIZE)\n",
        "train_dataset = train_dataset.prefetch(tf.data.experimental.AUTOTUNE)\n",
        "\n",
        "\n",
        "val_dataset = val_examples.map(tf_encode)\n",
        "val_dataset = val_dataset.filter(filter_max_length).padded_batch(BATCH_SIZE)"
      ],
      "execution_count": null,
      "outputs": []
    },
    {
      "cell_type": "code",
      "metadata": {
        "id": "asTAOCIfWFnT",
        "colab": {
          "base_uri": "https://localhost:8080/"
        },
        "outputId": "23a01479-affc-4dde-dee0-67b51637124d"
      },
      "source": [
        "pt_batch, en_batch = next(iter(val_dataset))\n",
        "pt_batch, en_batch"
      ],
      "execution_count": null,
      "outputs": [
        {
          "output_type": "execute_result",
          "data": {
            "text/plain": [
              "(<tf.Tensor: shape=(64, 38), dtype=int64, numpy=\n",
              " array([[8214,  342, 3032, ...,    0,    0,    0],\n",
              "        [8214,   95,  198, ...,    0,    0,    0],\n",
              "        [8214, 4479, 7990, ...,    0,    0,    0],\n",
              "        ...,\n",
              "        [8214,  584,   12, ...,    0,    0,    0],\n",
              "        [8214,   59, 1548, ...,    0,    0,    0],\n",
              "        [8214,  118,   34, ...,    0,    0,    0]])>,\n",
              " <tf.Tensor: shape=(64, 40), dtype=int64, numpy=\n",
              " array([[8087,   98,   25, ...,    0,    0,    0],\n",
              "        [8087,   12,   20, ...,    0,    0,    0],\n",
              "        [8087,   12, 5453, ...,    0,    0,    0],\n",
              "        ...,\n",
              "        [8087,   18, 2059, ...,    0,    0,    0],\n",
              "        [8087,   16, 1436, ...,    0,    0,    0],\n",
              "        [8087,   15,   57, ...,    0,    0,    0]])>)"
            ]
          },
          "metadata": {},
          "execution_count": 13
        }
      ]
    },
    {
      "cell_type": "markdown",
      "metadata": {
        "id": "ByKysUlxWRni"
      },
      "source": [
        "## Positional encoding"
      ]
    },
    {
      "cell_type": "code",
      "metadata": {
        "id": "nj7xuwoXWS8Y"
      },
      "source": [
        "def get_angles(pos, i, d_model):\n",
        "  angle_rates = 1 / np.power(10000, (2 * (i//2)) / np.float32(d_model))\n",
        "  return pos * angle_rates"
      ],
      "execution_count": null,
      "outputs": []
    },
    {
      "cell_type": "code",
      "metadata": {
        "id": "u4OygwVVWU3B"
      },
      "source": [
        "def positional_encoding(position, d_model):\n",
        "  angle_rads = get_angles(np.arange(position)[:, np.newaxis],\n",
        "                          np.arange(d_model)[np.newaxis, :],\n",
        "                          d_model)\n",
        "  \n",
        "  # apply sin to even indices in the array; 2i\n",
        "  angle_rads[:, 0::2] = np.sin(angle_rads[:, 0::2])\n",
        "  \n",
        "  # apply cos to odd indices in the array; 2i+1\n",
        "  angle_rads[:, 1::2] = np.cos(angle_rads[:, 1::2])\n",
        "    \n",
        "  pos_encoding = angle_rads[np.newaxis, ...]\n",
        "    \n",
        "  return tf.cast(pos_encoding, dtype=tf.float32)"
      ],
      "execution_count": null,
      "outputs": []
    },
    {
      "cell_type": "code",
      "metadata": {
        "id": "wXvPXB9VWWUe",
        "colab": {
          "base_uri": "https://localhost:8080/",
          "height": 300
        },
        "outputId": "5cd094aa-2d21-4d6b-bcb2-3ef67d586cd6"
      },
      "source": [
        "pos_encoding = positional_encoding(50, 512)\n",
        "print (pos_encoding.shape)\n",
        "\n",
        "plt.pcolormesh(pos_encoding[0], cmap='RdBu')\n",
        "plt.xlabel('Depth')\n",
        "plt.xlim((0, 512))\n",
        "plt.ylabel('Position')\n",
        "plt.colorbar()\n",
        "plt.show()"
      ],
      "execution_count": null,
      "outputs": [
        {
          "output_type": "stream",
          "text": [
            "(1, 50, 512)\n"
          ],
          "name": "stdout"
        },
        {
          "output_type": "display_data",
          "data": {
            "image/png": "[encoded data removed]",
            "text/plain": [
              "<Figure size 432x288 with 2 Axes>"
            ]
          },
          "metadata": {
            "needs_background": "light"
          }
        }
      ]
    },
    {
      "cell_type": "markdown",
      "metadata": {
        "id": "NDE-nnruWZju"
      },
      "source": [
        "## Masking"
      ]
    },
    {
      "cell_type": "code",
      "metadata": {
        "id": "2fbMRDoOWafm"
      },
      "source": [
        "def create_padding_mask(seq):\n",
        "  seq = tf.cast(tf.math.equal(seq, 0), tf.float32)\n",
        "  \n",
        "  # add extra dimensions to add the padding\n",
        "  # to the attention logits.\n",
        "  return seq[:, tf.newaxis, tf.newaxis, :]  # (batch_size, 1, 1, seq_len)"
      ],
      "execution_count": null,
      "outputs": []
    },
    {
      "cell_type": "code",
      "metadata": {
        "id": "vBpfQ-D6Wcvh",
        "colab": {
          "base_uri": "https://localhost:8080/"
        },
        "outputId": "496c007d-961e-4b94-a161-07040f7cc61b"
      },
      "source": [
        "x = tf.constant([[7, 6, 0, 0, 1], [1, 2, 3, 0, 0], [0, 0, 0, 4, 5]])\n",
        "create_padding_mask(x)"
      ],
      "execution_count": null,
      "outputs": [
        {
          "output_type": "execute_result",
          "data": {
            "text/plain": [
              "<tf.Tensor: shape=(3, 1, 1, 5), dtype=float32, numpy=\n",
              "array([[[[0., 0., 1., 1., 0.]]],\n",
              "\n",
              "\n",
              "       [[[0., 0., 0., 1., 1.]]],\n",
              "\n",
              "\n",
              "       [[[1., 1., 1., 0., 0.]]]], dtype=float32)>"
            ]
          },
          "metadata": {},
          "execution_count": 18
        }
      ]
    },
    {
      "cell_type": "code",
      "metadata": {
        "id": "JF32B1RhWef9"
      },
      "source": [
        "def create_look_ahead_mask(size):\n",
        "  mask = 1 - tf.linalg.band_part(tf.ones((size, size)), -1, 0)\n",
        "  return mask  # (seq_len, seq_len)"
      ],
      "execution_count": null,
      "outputs": []
    },
    {
      "cell_type": "code",
      "metadata": {
        "id": "ZPplw1TPWf0K",
        "colab": {
          "base_uri": "https://localhost:8080/"
        },
        "outputId": "df73472f-cc3c-4a50-d02c-35987fbe9d8e"
      },
      "source": [
        "x = tf.random.uniform((1, 3))\n",
        "temp = create_look_ahead_mask(x.shape[1])\n",
        "temp"
      ],
      "execution_count": null,
      "outputs": [
        {
          "output_type": "execute_result",
          "data": {
            "text/plain": [
              "<tf.Tensor: shape=(3, 3), dtype=float32, numpy=\n",
              "array([[0., 1., 1.],\n",
              "       [0., 0., 1.],\n",
              "       [0., 0., 0.]], dtype=float32)>"
            ]
          },
          "metadata": {},
          "execution_count": 20
        }
      ]
    },
    {
      "cell_type": "markdown",
      "metadata": {
        "id": "UCKqXdtFWjW2"
      },
      "source": [
        "## Scaled dot product attention"
      ]
    },
    {
      "cell_type": "code",
      "metadata": {
        "id": "zFDds81kWjw5"
      },
      "source": [
        "def scaled_dot_product_attention(q, k, v, mask):\n",
        "  \"\"\"Calculate the attention weights.\n",
        "  q, k, v must have matching leading dimensions.\n",
        "  k, v must have matching penultimate dimension, i.e.: seq_len_k = seq_len_v.\n",
        "  The mask has different shapes depending on its type(padding or look ahead) \n",
        "  but it must be broadcastable for addition.\n",
        "  \n",
        "  Args:\n",
        "    q: query shape == (..., seq_len_q, depth)\n",
        "    k: key shape == (..., seq_len_k, depth)\n",
        "    v: value shape == (..., seq_len_v, depth_v)\n",
        "    mask: Float tensor with shape broadcastable \n",
        "          to (..., seq_len_q, seq_len_k). Defaults to None.\n",
        "    \n",
        "  Returns:\n",
        "    output, attention_weights\n",
        "  \"\"\"\n",
        "\n",
        "  matmul_qk = tf.matmul(q, k, transpose_b=True)  # (..., seq_len_q, seq_len_k)\n",
        "  \n",
        "  # scale matmul_qk\n",
        "  dk = tf.cast(tf.shape(k)[-1], tf.float32)\n",
        "  scaled_attention_logits = matmul_qk / tf.math.sqrt(dk)\n",
        "\n",
        "  # add the mask to the scaled tensor.\n",
        "  if mask is not None:\n",
        "    scaled_attention_logits += (mask * -1e9)  \n",
        "\n",
        "  # softmax is normalized on the last axis (seq_len_k) so that the scores\n",
        "  # add up to 1.\n",
        "  attention_weights = tf.nn.softmax(scaled_attention_logits, axis=-1)  # (..., seq_len_q, seq_len_k)\n",
        "\n",
        "  output = tf.matmul(attention_weights, v)  # (..., seq_len_q, depth_v)\n",
        "\n",
        "  return output, attention_weights"
      ],
      "execution_count": null,
      "outputs": []
    },
    {
      "cell_type": "code",
      "metadata": {
        "id": "qhVmQvJTWoHB"
      },
      "source": [
        "def print_out(q, k, v):\n",
        "  temp_out, temp_attn = scaled_dot_product_attention(\n",
        "      q, k, v, None)\n",
        "  print ('Attention weights are:')\n",
        "  print (temp_attn)\n",
        "  print ('Output is:')\n",
        "  print (temp_out)"
      ],
      "execution_count": null,
      "outputs": []
    },
    {
      "cell_type": "code",
      "metadata": {
        "id": "g0vQsuRDWqm2",
        "colab": {
          "base_uri": "https://localhost:8080/"
        },
        "outputId": "12c56fa1-2836-4e5a-998e-79862a3eb7a5"
      },
      "source": [
        "np.set_printoptions(suppress=True)\n",
        "\n",
        "temp_k = tf.constant([[10,0,0],\n",
        "                      [0,10,0],\n",
        "                      [0,0,10],\n",
        "                      [0,0,10]], dtype=tf.float32)  # (4, 3)\n",
        "\n",
        "temp_v = tf.constant([[   1,0],\n",
        "                      [  10,0],\n",
        "                      [ 100,5],\n",
        "                      [1000,6]], dtype=tf.float32)  # (4, 2)\n",
        "\n",
        "# This `query` aligns with the second `key`,\n",
        "# so the second `value` is returned.\n",
        "temp_q = tf.constant([[0, 10, 0]], dtype=tf.float32)  # (1, 3)\n",
        "print_out(temp_q, temp_k, temp_v)"
      ],
      "execution_count": null,
      "outputs": [
        {
          "output_type": "stream",
          "text": [
            "Attention weights are:\n",
            "tf.Tensor([[0. 1. 0. 0.]], shape=(1, 4), dtype=float32)\n",
            "Output is:\n",
            "tf.Tensor([[10.  0.]], shape=(1, 2), dtype=float32)\n"
          ],
          "name": "stdout"
        }
      ]
    },
    {
      "cell_type": "code",
      "metadata": {
        "id": "RsjRxc6OWsAv",
        "colab": {
          "base_uri": "https://localhost:8080/"
        },
        "outputId": "1a82571f-dee8-415a-88ac-c0c742a4b197"
      },
      "source": [
        "# This query aligns with a repeated key (third and fourth), \n",
        "# so all associated values get averaged.\n",
        "temp_q = tf.constant([[0, 0, 10]], dtype=tf.float32)  # (1, 3)\n",
        "print_out(temp_q, temp_k, temp_v)"
      ],
      "execution_count": null,
      "outputs": [
        {
          "output_type": "stream",
          "text": [
            "Attention weights are:\n",
            "tf.Tensor([[0.  0.  0.5 0.5]], shape=(1, 4), dtype=float32)\n",
            "Output is:\n",
            "tf.Tensor([[550.    5.5]], shape=(1, 2), dtype=float32)\n"
          ],
          "name": "stdout"
        }
      ]
    },
    {
      "cell_type": "code",
      "metadata": {
        "id": "hU0vov1KWtOf",
        "colab": {
          "base_uri": "https://localhost:8080/"
        },
        "outputId": "c521de2b-10f1-4fc3-86ed-de01c87912b7"
      },
      "source": [
        "# This query aligns equally with the first and second key, \n",
        "# so their values get averaged.\n",
        "temp_q = tf.constant([[10, 10, 0]], dtype=tf.float32)  # (1, 3)\n",
        "print_out(temp_q, temp_k, temp_v)"
      ],
      "execution_count": null,
      "outputs": [
        {
          "output_type": "stream",
          "text": [
            "Attention weights are:\n",
            "tf.Tensor([[0.5 0.5 0.  0. ]], shape=(1, 4), dtype=float32)\n",
            "Output is:\n",
            "tf.Tensor([[5.5 0. ]], shape=(1, 2), dtype=float32)\n"
          ],
          "name": "stdout"
        }
      ]
    },
    {
      "cell_type": "code",
      "metadata": {
        "id": "46j8qHWkWvSZ",
        "colab": {
          "base_uri": "https://localhost:8080/"
        },
        "outputId": "a93abe14-e76e-4482-c511-93cc1cdc1e2c"
      },
      "source": [
        "temp_q = tf.constant([[0, 0, 10], [0, 10, 0], [10, 10, 0]], dtype=tf.float32)  # (3, 3)\n",
        "print_out(temp_q, temp_k, temp_v)"
      ],
      "execution_count": null,
      "outputs": [
        {
          "output_type": "stream",
          "text": [
            "Attention weights are:\n",
            "tf.Tensor(\n",
            "[[0.  0.  0.5 0.5]\n",
            " [0.  1.  0.  0. ]\n",
            " [0.5 0.5 0.  0. ]], shape=(3, 4), dtype=float32)\n",
            "Output is:\n",
            "tf.Tensor(\n",
            "[[550.    5.5]\n",
            " [ 10.    0. ]\n",
            " [  5.5   0. ]], shape=(3, 2), dtype=float32)\n"
          ],
          "name": "stdout"
        }
      ]
    },
    {
      "cell_type": "markdown",
      "metadata": {
        "id": "QNw9IRgDWyLU"
      },
      "source": [
        "## Multi-head attention"
      ]
    },
    {
      "cell_type": "code",
      "metadata": {
        "id": "SSPgkgkiWx3L"
      },
      "source": [
        "class MultiHeadAttention(tf.keras.layers.Layer):\n",
        "  def __init__(self, d_model, num_heads):\n",
        "    super(MultiHeadAttention, self).__init__()\n",
        "    self.num_heads = num_heads\n",
        "    self.d_model = d_model\n",
        "    \n",
        "    assert d_model % self.num_heads == 0\n",
        "    \n",
        "    self.depth = d_model // self.num_heads\n",
        "    \n",
        "    self.wq = tf.keras.layers.Dense(d_model)\n",
        "    self.wk = tf.keras.layers.Dense(d_model)\n",
        "    self.wv = tf.keras.layers.Dense(d_model)\n",
        "    \n",
        "    self.dense = tf.keras.layers.Dense(d_model)\n",
        "        \n",
        "  def split_heads(self, x, batch_size):\n",
        "    \"\"\"Split the last dimension into (num_heads, depth).\n",
        "    Transpose the result such that the shape is (batch_size, num_heads, seq_len, depth)\n",
        "    \"\"\"\n",
        "    x = tf.reshape(x, (batch_size, -1, self.num_heads, self.depth))\n",
        "    return tf.transpose(x, perm=[0, 2, 1, 3])\n",
        "    \n",
        "  def call(self, v, k, q, mask):\n",
        "    batch_size = tf.shape(q)[0]\n",
        "    \n",
        "    q = self.wq(q)  # (batch_size, seq_len, d_model)\n",
        "    k = self.wk(k)  # (batch_size, seq_len, d_model)\n",
        "    v = self.wv(v)  # (batch_size, seq_len, d_model)\n",
        "    \n",
        "    q = self.split_heads(q, batch_size)  # (batch_size, num_heads, seq_len_q, depth)\n",
        "    k = self.split_heads(k, batch_size)  # (batch_size, num_heads, seq_len_k, depth)\n",
        "    v = self.split_heads(v, batch_size)  # (batch_size, num_heads, seq_len_v, depth)\n",
        "    \n",
        "    # scaled_attention.shape == (batch_size, num_heads, seq_len_q, depth)\n",
        "    # attention_weights.shape == (batch_size, num_heads, seq_len_q, seq_len_k)\n",
        "    scaled_attention, attention_weights = scaled_dot_product_attention(\n",
        "        q, k, v, mask)\n",
        "    \n",
        "    scaled_attention = tf.transpose(scaled_attention, perm=[0, 2, 1, 3])  # (batch_size, seq_len_q, num_heads, depth)\n",
        "\n",
        "    concat_attention = tf.reshape(scaled_attention, \n",
        "                                  (batch_size, -1, self.d_model))  # (batch_size, seq_len_q, d_model)\n",
        "\n",
        "    output = self.dense(concat_attention)  # (batch_size, seq_len_q, d_model)\n",
        "        \n",
        "    return output, attention_weights"
      ],
      "execution_count": null,
      "outputs": []
    },
    {
      "cell_type": "code",
      "metadata": {
        "id": "krWpwIxdW1Y7",
        "colab": {
          "base_uri": "https://localhost:8080/"
        },
        "outputId": "330bce5e-298d-4c81-ad25-1c6d173d1dee"
      },
      "source": [
        "temp_mha = MultiHeadAttention(d_model=512, num_heads=8)\n",
        "y = tf.random.uniform((1, 60, 512))  # (batch_size, encoder_sequence, d_model)\n",
        "out, attn = temp_mha(y, k=y, q=y, mask=None)\n",
        "out.shape, attn.shape"
      ],
      "execution_count": null,
      "outputs": [
        {
          "output_type": "execute_result",
          "data": {
            "text/plain": [
              "(TensorShape([1, 60, 512]), TensorShape([1, 8, 60, 60]))"
            ]
          },
          "metadata": {},
          "execution_count": 28
        }
      ]
    },
    {
      "cell_type": "markdown",
      "metadata": {
        "id": "Umq6cZIqW3OI"
      },
      "source": [
        "## Point wise feed forward network"
      ]
    },
    {
      "cell_type": "code",
      "metadata": {
        "id": "wiqPa5IiW4uW"
      },
      "source": [
        "def point_wise_feed_forward_network(d_model, dff):\n",
        "  return tf.keras.Sequential([\n",
        "      tf.keras.layers.Dense(dff, activation='relu'),  # (batch_size, seq_len, dff)\n",
        "      tf.keras.layers.Dense(d_model)  # (batch_size, seq_len, d_model)\n",
        "  ])"
      ],
      "execution_count": null,
      "outputs": []
    },
    {
      "cell_type": "code",
      "metadata": {
        "id": "m6OEvuejW6CC",
        "colab": {
          "base_uri": "https://localhost:8080/"
        },
        "outputId": "06d4d614-74be-48fc-9830-0a1101e2e72f"
      },
      "source": [
        "sample_ffn = point_wise_feed_forward_network(512, 2048)\n",
        "sample_ffn(tf.random.uniform((64, 50, 512))).shape"
      ],
      "execution_count": null,
      "outputs": [
        {
          "output_type": "execute_result",
          "data": {
            "text/plain": [
              "TensorShape([64, 50, 512])"
            ]
          },
          "metadata": {},
          "execution_count": 30
        }
      ]
    },
    {
      "cell_type": "markdown",
      "metadata": {
        "id": "jqsH7HxlW71z"
      },
      "source": [
        "## Encoder and decoder"
      ]
    },
    {
      "cell_type": "markdown",
      "metadata": {
        "id": "eisAkTRAW-LN"
      },
      "source": [
        "### Encoder layer"
      ]
    },
    {
      "cell_type": "code",
      "metadata": {
        "id": "0iF0QzMKW_lQ"
      },
      "source": [
        "class EncoderLayer(tf.keras.layers.Layer):\n",
        "  def __init__(self, d_model, num_heads, dff, rate=0.1):\n",
        "    super(EncoderLayer, self).__init__()\n",
        "\n",
        "    self.mha = MultiHeadAttention(d_model, num_heads)\n",
        "    self.ffn = point_wise_feed_forward_network(d_model, dff)\n",
        "\n",
        "    self.layernorm1 = tf.keras.layers.LayerNormalization(epsilon=1e-6)\n",
        "    self.layernorm2 = tf.keras.layers.LayerNormalization(epsilon=1e-6)\n",
        "    \n",
        "    self.dropout1 = tf.keras.layers.Dropout(rate)\n",
        "    self.dropout2 = tf.keras.layers.Dropout(rate)\n",
        "    \n",
        "  def call(self, x, training, mask):\n",
        "\n",
        "    attn_output, _ = self.mha(x, x, x, mask)  # (batch_size, input_seq_len, d_model)\n",
        "    attn_output = self.dropout1(attn_output, training=training)\n",
        "    out1 = self.layernorm1(x + attn_output)  # (batch_size, input_seq_len, d_model)\n",
        "    \n",
        "    ffn_output = self.ffn(out1)  # (batch_size, input_seq_len, d_model)\n",
        "    ffn_output = self.dropout2(ffn_output, training=training)\n",
        "    out2 = self.layernorm2(out1 + ffn_output)  # (batch_size, input_seq_len, d_model)\n",
        "    \n",
        "    return out2"
      ],
      "execution_count": null,
      "outputs": []
    },
    {
      "cell_type": "code",
      "metadata": {
        "id": "ydu9dC1LXAwv",
        "colab": {
          "base_uri": "https://localhost:8080/"
        },
        "outputId": "8e98ed42-d546-4dd3-c4cc-a21ae78ff41d"
      },
      "source": [
        "sample_encoder_layer = EncoderLayer(512, 8, 2048)\n",
        "\n",
        "sample_encoder_layer_output = sample_encoder_layer(\n",
        "    tf.random.uniform((64, 43, 512)), False, None)\n",
        "\n",
        "sample_encoder_layer_output.shape  # (batch_size, input_seq_len, d_model)"
      ],
      "execution_count": null,
      "outputs": [
        {
          "output_type": "execute_result",
          "data": {
            "text/plain": [
              "TensorShape([64, 43, 512])"
            ]
          },
          "metadata": {},
          "execution_count": 32
        }
      ]
    },
    {
      "cell_type": "markdown",
      "metadata": {
        "id": "xWcPKlnyXCqv"
      },
      "source": [
        "### Decoder layer"
      ]
    },
    {
      "cell_type": "code",
      "metadata": {
        "id": "NOgCU-z-XEKs"
      },
      "source": [
        "class DecoderLayer(tf.keras.layers.Layer):\n",
        "  def __init__(self, d_model, num_heads, dff, rate=0.1):\n",
        "    super(DecoderLayer, self).__init__()\n",
        "\n",
        "    self.mha1 = MultiHeadAttention(d_model, num_heads)\n",
        "    self.mha2 = MultiHeadAttention(d_model, num_heads)\n",
        "\n",
        "    self.ffn = point_wise_feed_forward_network(d_model, dff)\n",
        " \n",
        "    self.layernorm1 = tf.keras.layers.LayerNormalization(epsilon=1e-6)\n",
        "    self.layernorm2 = tf.keras.layers.LayerNormalization(epsilon=1e-6)\n",
        "    self.layernorm3 = tf.keras.layers.LayerNormalization(epsilon=1e-6)\n",
        "    \n",
        "    self.dropout1 = tf.keras.layers.Dropout(rate)\n",
        "    self.dropout2 = tf.keras.layers.Dropout(rate)\n",
        "    self.dropout3 = tf.keras.layers.Dropout(rate)\n",
        "    \n",
        "    \n",
        "  def call(self, x, enc_output, training, \n",
        "           look_ahead_mask, padding_mask):\n",
        "    # enc_output.shape == (batch_size, input_seq_len, d_model)\n",
        "\n",
        "    attn1, attn_weights_block1 = self.mha1(x, x, x, look_ahead_mask)  # (batch_size, target_seq_len, d_model)\n",
        "    attn1 = self.dropout1(attn1, training=training)\n",
        "    out1 = self.layernorm1(attn1 + x)\n",
        "    \n",
        "    attn2, attn_weights_block2 = self.mha2(\n",
        "        enc_output, enc_output, out1, padding_mask)  # (batch_size, target_seq_len, d_model)\n",
        "    attn2 = self.dropout2(attn2, training=training)\n",
        "    out2 = self.layernorm2(attn2 + out1)  # (batch_size, target_seq_len, d_model)\n",
        "    \n",
        "    ffn_output = self.ffn(out2)  # (batch_size, target_seq_len, d_model)\n",
        "    ffn_output = self.dropout3(ffn_output, training=training)\n",
        "    out3 = self.layernorm3(ffn_output + out2)  # (batch_size, target_seq_len, d_model)\n",
        "    \n",
        "    return out3, attn_weights_block1, attn_weights_block2"
      ],
      "execution_count": null,
      "outputs": []
    },
    {
      "cell_type": "code",
      "metadata": {
        "id": "Eh8ZWk0cXFij",
        "colab": {
          "base_uri": "https://localhost:8080/"
        },
        "outputId": "e05f8c9a-6544-43fb-828a-761801c92c34"
      },
      "source": [
        "sample_decoder_layer = DecoderLayer(512, 8, 2048)\n",
        "\n",
        "sample_decoder_layer_output, _, _ = sample_decoder_layer(\n",
        "    tf.random.uniform((64, 50, 512)), sample_encoder_layer_output, \n",
        "    False, None, None)\n",
        "\n",
        "sample_decoder_layer_output.shape  # (batch_size, target_seq_len, d_model)"
      ],
      "execution_count": null,
      "outputs": [
        {
          "output_type": "execute_result",
          "data": {
            "text/plain": [
              "TensorShape([64, 50, 512])"
            ]
          },
          "metadata": {},
          "execution_count": 34
        }
      ]
    },
    {
      "cell_type": "markdown",
      "metadata": {
        "id": "q2A4yzajXHeJ"
      },
      "source": [
        "### Encoder"
      ]
    },
    {
      "cell_type": "code",
      "metadata": {
        "id": "PIUe7KTGXIna"
      },
      "source": [
        "class Encoder(tf.keras.layers.Layer):\n",
        "  def __init__(self, num_layers, d_model, num_heads, dff, input_vocab_size,\n",
        "               maximum_position_encoding, rate=0.1):\n",
        "    super(Encoder, self).__init__()\n",
        "\n",
        "    self.d_model = d_model\n",
        "    self.num_layers = num_layers\n",
        "    \n",
        "    self.embedding = tf.keras.layers.Embedding(input_vocab_size, d_model)\n",
        "    self.pos_encoding = positional_encoding(maximum_position_encoding, \n",
        "                                            self.d_model)\n",
        "    \n",
        "    \n",
        "    self.enc_layers = [EncoderLayer(d_model, num_heads, dff, rate) \n",
        "                       for _ in range(num_layers)]\n",
        "  \n",
        "    self.dropout = tf.keras.layers.Dropout(rate)\n",
        "        \n",
        "  def call(self, x, training, mask):\n",
        "\n",
        "    seq_len = tf.shape(x)[1]\n",
        "    \n",
        "    # adding embedding and position encoding.\n",
        "    x = self.embedding(x)  # (batch_size, input_seq_len, d_model)\n",
        "    x *= tf.math.sqrt(tf.cast(self.d_model, tf.float32))\n",
        "    x += self.pos_encoding[:, :seq_len, :]\n",
        "\n",
        "    x = self.dropout(x, training=training)\n",
        "    \n",
        "    for i in range(self.num_layers):\n",
        "      x = self.enc_layers[i](x, training, mask)\n",
        "    \n",
        "    return x  # (batch_size, input_seq_len, d_model)"
      ],
      "execution_count": null,
      "outputs": []
    },
    {
      "cell_type": "code",
      "metadata": {
        "id": "q53XujrJXJx_",
        "colab": {
          "base_uri": "https://localhost:8080/"
        },
        "outputId": "b5f8c183-4b1b-4628-e4d9-27f9622bc6e2"
      },
      "source": [
        "sample_encoder = Encoder(num_layers=2, d_model=512, num_heads=8, \n",
        "                         dff=2048, input_vocab_size=8500,\n",
        "                         maximum_position_encoding=10000)\n",
        "temp_input = tf.random.uniform((64, 62), dtype=tf.int64, minval=0, maxval=200)\n",
        "\n",
        "sample_encoder_output = sample_encoder(temp_input, training=False, mask=None)\n",
        "\n",
        "print (sample_encoder_output.shape)  # (batch_size, input_seq_len, d_model)"
      ],
      "execution_count": null,
      "outputs": [
        {
          "output_type": "stream",
          "text": [
            "(64, 62, 512)\n"
          ],
          "name": "stdout"
        }
      ]
    },
    {
      "cell_type": "markdown",
      "metadata": {
        "id": "FZxCaW-PXLaL"
      },
      "source": [
        "### Decoder"
      ]
    },
    {
      "cell_type": "code",
      "metadata": {
        "id": "9i0EuVYOXMKs"
      },
      "source": [
        "class Decoder(tf.keras.layers.Layer):\n",
        "  def __init__(self, num_layers, d_model, num_heads, dff, target_vocab_size,\n",
        "               maximum_position_encoding, rate=0.1):\n",
        "    super(Decoder, self).__init__()\n",
        "\n",
        "    self.d_model = d_model\n",
        "    self.num_layers = num_layers\n",
        "    \n",
        "    self.embedding = tf.keras.layers.Embedding(target_vocab_size, d_model)\n",
        "    self.pos_encoding = positional_encoding(maximum_position_encoding, d_model)\n",
        "    \n",
        "    self.dec_layers = [DecoderLayer(d_model, num_heads, dff, rate) \n",
        "                       for _ in range(num_layers)]\n",
        "    self.dropout = tf.keras.layers.Dropout(rate)\n",
        "    \n",
        "  def call(self, x, enc_output, training, \n",
        "           look_ahead_mask, padding_mask):\n",
        "\n",
        "    seq_len = tf.shape(x)[1]\n",
        "    attention_weights = {}\n",
        "    \n",
        "    x = self.embedding(x)  # (batch_size, target_seq_len, d_model)\n",
        "    x *= tf.math.sqrt(tf.cast(self.d_model, tf.float32))\n",
        "    x += self.pos_encoding[:, :seq_len, :]\n",
        "    \n",
        "    x = self.dropout(x, training=training)\n",
        "\n",
        "    for i in range(self.num_layers):\n",
        "      x, block1, block2 = self.dec_layers[i](x, enc_output, training,\n",
        "                                             look_ahead_mask, padding_mask)\n",
        "      \n",
        "      attention_weights['decoder_layer{}_block1'.format(i+1)] = block1\n",
        "      attention_weights['decoder_layer{}_block2'.format(i+1)] = block2\n",
        "    \n",
        "    # x.shape == (batch_size, target_seq_len, d_model)\n",
        "    return x, attention_weights"
      ],
      "execution_count": null,
      "outputs": []
    },
    {
      "cell_type": "code",
      "metadata": {
        "id": "YYiwSXzpXOVP",
        "colab": {
          "base_uri": "https://localhost:8080/"
        },
        "outputId": "3e80a8ae-bc5e-4797-8222-a93cd25c58bf"
      },
      "source": [
        "sample_decoder = Decoder(num_layers=2, d_model=512, num_heads=8, \n",
        "                         dff=2048, target_vocab_size=8000,\n",
        "                         maximum_position_encoding=5000)\n",
        "temp_input = tf.random.uniform((64, 26), dtype=tf.int64, minval=0, maxval=200)\n",
        "\n",
        "output, attn = sample_decoder(temp_input, \n",
        "                              enc_output=sample_encoder_output, \n",
        "                              training=False,\n",
        "                              look_ahead_mask=None, \n",
        "                              padding_mask=None)\n",
        "\n",
        "output.shape, attn['decoder_layer2_block2'].shape"
      ],
      "execution_count": null,
      "outputs": [
        {
          "output_type": "execute_result",
          "data": {
            "text/plain": [
              "(TensorShape([64, 26, 512]), TensorShape([64, 8, 26, 62]))"
            ]
          },
          "metadata": {},
          "execution_count": 38
        }
      ]
    },
    {
      "cell_type": "markdown",
      "metadata": {
        "id": "wSoQ8O33XPzx"
      },
      "source": [
        "## Create the Transformer"
      ]
    },
    {
      "cell_type": "code",
      "metadata": {
        "id": "mIuop5c7XRCl"
      },
      "source": [
        "class Transformer(tf.keras.Model):\n",
        "  def __init__(self, num_layers, d_model, num_heads, dff, input_vocab_size, \n",
        "               target_vocab_size, pe_input, pe_target, rate=0.1):\n",
        "    super(Transformer, self).__init__()\n",
        "\n",
        "    self.encoder = Encoder(num_layers, d_model, num_heads, dff, \n",
        "                           input_vocab_size, pe_input, rate)\n",
        "\n",
        "    self.decoder = Decoder(num_layers, d_model, num_heads, dff, \n",
        "                           target_vocab_size, pe_target, rate)\n",
        "\n",
        "    self.final_layer = tf.keras.layers.Dense(target_vocab_size)\n",
        "    \n",
        "  def call(self, inp, tar, training, enc_padding_mask, \n",
        "           look_ahead_mask, dec_padding_mask):\n",
        "\n",
        "    enc_output = self.encoder(inp, training, enc_padding_mask)  # (batch_size, inp_seq_len, d_model)\n",
        "    \n",
        "    # dec_output.shape == (batch_size, tar_seq_len, d_model)\n",
        "    dec_output, attention_weights = self.decoder(\n",
        "        tar, enc_output, training, look_ahead_mask, dec_padding_mask)\n",
        "    \n",
        "    final_output = self.final_layer(dec_output)  # (batch_size, tar_seq_len, target_vocab_size)\n",
        "    \n",
        "    return final_output, attention_weights"
      ],
      "execution_count": null,
      "outputs": []
    },
    {
      "cell_type": "code",
      "metadata": {
        "id": "VmgCJZPFXSeM",
        "colab": {
          "base_uri": "https://localhost:8080/"
        },
        "outputId": "c4cd5553-455f-4d43-f212-f33aa8c701d2"
      },
      "source": [
        "sample_transformer = Transformer(\n",
        "    num_layers=2, d_model=512, num_heads=8, dff=2048, \n",
        "    input_vocab_size=8500, target_vocab_size=8000, \n",
        "    pe_input=10000, pe_target=6000)\n",
        "\n",
        "temp_input = tf.random.uniform((64, 38), dtype=tf.int64, minval=0, maxval=200)\n",
        "temp_target = tf.random.uniform((64, 36), dtype=tf.int64, minval=0, maxval=200)\n",
        "\n",
        "fn_out, _ = sample_transformer(temp_input, temp_target, training=False, \n",
        "                               enc_padding_mask=None, \n",
        "                               look_ahead_mask=None,\n",
        "                               dec_padding_mask=None)\n",
        "\n",
        "fn_out.shape  # (batch_size, tar_seq_len, target_vocab_size)"
      ],
      "execution_count": null,
      "outputs": [
        {
          "output_type": "execute_result",
          "data": {
            "text/plain": [
              "TensorShape([64, 36, 8000])"
            ]
          },
          "metadata": {},
          "execution_count": 40
        }
      ]
    },
    {
      "cell_type": "markdown",
      "metadata": {
        "id": "4mapdKYhXUHr"
      },
      "source": [
        "## Set hyperparameters"
      ]
    },
    {
      "cell_type": "code",
      "metadata": {
        "id": "OnnAeztvXVRM"
      },
      "source": [
        "num_layers = 4\n",
        "d_model = 128\n",
        "dff = 512\n",
        "num_heads = 8\n",
        "\n",
        "input_vocab_size = tokenizer_pt.vocab_size + 2\n",
        "target_vocab_size = tokenizer_en.vocab_size + 2\n",
        "dropout_rate = 0.1"
      ],
      "execution_count": null,
      "outputs": []
    },
    {
      "cell_type": "markdown",
      "metadata": {
        "id": "rSuiLWMwXWt2"
      },
      "source": [
        "## Optimizer"
      ]
    },
    {
      "cell_type": "code",
      "metadata": {
        "id": "TyAWnPYAXXij"
      },
      "source": [
        "class CustomSchedule(tf.keras.optimizers.schedules.LearningRateSchedule):\n",
        "  def __init__(self, d_model, warmup_steps=4000):\n",
        "    super(CustomSchedule, self).__init__()\n",
        "    \n",
        "    self.d_model = d_model\n",
        "    self.d_model = tf.cast(self.d_model, tf.float32)\n",
        "\n",
        "    self.warmup_steps = warmup_steps\n",
        "    \n",
        "  def __call__(self, step):\n",
        "    arg1 = tf.math.rsqrt(step)\n",
        "    arg2 = step * (self.warmup_steps ** -1.5)\n",
        "    \n",
        "    return tf.math.rsqrt(self.d_model) * tf.math.minimum(arg1, arg2)"
      ],
      "execution_count": null,
      "outputs": []
    },
    {
      "cell_type": "code",
      "metadata": {
        "id": "L1wZtqlMXZ-J"
      },
      "source": [
        "learning_rate = CustomSchedule(d_model)\n",
        "\n",
        "optimizer = tf.keras.optimizers.Adam(learning_rate, beta_1=0.9, beta_2=0.98, \n",
        "                                     epsilon=1e-9)"
      ],
      "execution_count": null,
      "outputs": []
    },
    {
      "cell_type": "code",
      "metadata": {
        "id": "nbLu37KCXbf0",
        "colab": {
          "base_uri": "https://localhost:8080/",
          "height": 296
        },
        "outputId": "2e922840-20f3-476a-c526-f76bfc0407a4"
      },
      "source": [
        "temp_learning_rate_schedule = CustomSchedule(d_model)\n",
        "\n",
        "plt.plot(temp_learning_rate_schedule(tf.range(40000, dtype=tf.float32)))\n",
        "plt.ylabel(\"Learning Rate\")\n",
        "plt.xlabel(\"Train Step\")"
      ],
      "execution_count": null,
      "outputs": [
        {
          "output_type": "execute_result",
          "data": {
            "text/plain": [
              "Text(0.5, 0, 'Train Step')"
            ]
          },
          "metadata": {},
          "execution_count": 44
        },
        {
          "output_type": "display_data",
          "data": {
            "image/png": "[encoded data removed]",
            "text/plain": [
              "<Figure size 432x288 with 1 Axes>"
            ]
          },
          "metadata": {
            "needs_background": "light"
          }
        }
      ]
    },
    {
      "cell_type": "markdown",
      "metadata": {
        "id": "gm_oKcH_XdN_"
      },
      "source": [
        "## Loss and metrics"
      ]
    },
    {
      "cell_type": "code",
      "metadata": {
        "id": "lqdQOB5PXeeR"
      },
      "source": [
        "loss_object = tf.keras.losses.SparseCategoricalCrossentropy(\n",
        "    from_logits=True, reduction='none')"
      ],
      "execution_count": null,
      "outputs": []
    },
    {
      "cell_type": "code",
      "metadata": {
        "id": "bDPCA61PXfrY"
      },
      "source": [
        "def loss_function(real, pred):\n",
        "  mask = tf.math.logical_not(tf.math.equal(real, 0))\n",
        "  loss_ = loss_object(real, pred)\n",
        "\n",
        "  mask = tf.cast(mask, dtype=loss_.dtype)\n",
        "  loss_ *= mask\n",
        "  \n",
        "  return tf.reduce_sum(loss_)/tf.reduce_sum(mask)"
      ],
      "execution_count": null,
      "outputs": []
    },
    {
      "cell_type": "code",
      "metadata": {
        "id": "1KTkrjK8Xg1r"
      },
      "source": [
        "train_loss = tf.keras.metrics.Mean(name='train_loss')\n",
        "train_accuracy = tf.keras.metrics.SparseCategoricalAccuracy(\n",
        "    name='train_accuracy')"
      ],
      "execution_count": null,
      "outputs": []
    },
    {
      "cell_type": "markdown",
      "metadata": {
        "id": "_SwgVOOTXiaA"
      },
      "source": [
        "## Training and checkpointing"
      ]
    },
    {
      "cell_type": "code",
      "metadata": {
        "id": "wjJ6ZQGtXjK_"
      },
      "source": [
        "transformer = Transformer(num_layers, d_model, num_heads, dff,\n",
        "                          input_vocab_size, target_vocab_size, \n",
        "                          pe_input=input_vocab_size, \n",
        "                          pe_target=target_vocab_size,\n",
        "                          rate=dropout_rate)"
      ],
      "execution_count": null,
      "outputs": []
    },
    {
      "cell_type": "code",
      "metadata": {
        "id": "9PI384c2XlQQ"
      },
      "source": [
        "def create_masks(inp, tar):\n",
        "  # Encoder padding mask\n",
        "  enc_padding_mask = create_padding_mask(inp)\n",
        "  \n",
        "  # Used in the 2nd attention block in the decoder.\n",
        "  # This padding mask is used to mask the encoder outputs.\n",
        "  dec_padding_mask = create_padding_mask(inp)\n",
        "  \n",
        "  # Used in the 1st attention block in the decoder.\n",
        "  # It is used to pad and mask future tokens in the input received by \n",
        "  # the decoder.\n",
        "  look_ahead_mask = create_look_ahead_mask(tf.shape(tar)[1])\n",
        "  dec_target_padding_mask = create_padding_mask(tar)\n",
        "  combined_mask = tf.maximum(dec_target_padding_mask, look_ahead_mask)\n",
        "  \n",
        "  return enc_padding_mask, combined_mask, dec_padding_mask"
      ],
      "execution_count": null,
      "outputs": []
    },
    {
      "cell_type": "code",
      "metadata": {
        "id": "SzyIrS5ZXmdy"
      },
      "source": [
        "checkpoint_path = \"./checkpoints/train\"\n",
        "\n",
        "ckpt = tf.train.Checkpoint(transformer=transformer,\n",
        "                           optimizer=optimizer)\n",
        "\n",
        "ckpt_manager = tf.train.CheckpointManager(ckpt, checkpoint_path, max_to_keep=5)\n",
        "\n",
        "# if a checkpoint exists, restore the latest checkpoint.\n",
        "if ckpt_manager.latest_checkpoint:\n",
        "  ckpt.restore(ckpt_manager.latest_checkpoint)\n",
        "  print ('Latest checkpoint restored!!')"
      ],
      "execution_count": null,
      "outputs": []
    },
    {
      "cell_type": "code",
      "metadata": {
        "id": "hojJybLfXoRT"
      },
      "source": [
        "EPOCHS = 20"
      ],
      "execution_count": null,
      "outputs": []
    },
    {
      "cell_type": "code",
      "metadata": {
        "id": "XZrL4__JXpyQ"
      },
      "source": [
        "# The @tf.function trace-compiles train_step into a TF graph for faster\n",
        "# execution. The function specializes to the precise shape of the argument\n",
        "# tensors. To avoid re-tracing due to the variable sequence lengths or variable\n",
        "# batch sizes (the last batch is smaller), use input_signature to specify\n",
        "# more generic shapes.\n",
        "\n",
        "train_step_signature = [\n",
        "    tf.TensorSpec(shape=(None, None), dtype=tf.int64),\n",
        "    tf.TensorSpec(shape=(None, None), dtype=tf.int64),\n",
        "]\n",
        "\n",
        "@tf.function(input_signature=train_step_signature)\n",
        "def train_step(inp, tar):\n",
        "  tar_inp = tar[:, :-1]\n",
        "  tar_real = tar[:, 1:]\n",
        "  \n",
        "  enc_padding_mask, combined_mask, dec_padding_mask = create_masks(inp, tar_inp)\n",
        "  \n",
        "  with tf.GradientTape() as tape:\n",
        "    predictions, _ = transformer(inp, tar_inp, \n",
        "                                 True, \n",
        "                                 enc_padding_mask, \n",
        "                                 combined_mask, \n",
        "                                 dec_padding_mask)\n",
        "    loss = loss_function(tar_real, predictions)\n",
        "\n",
        "  gradients = tape.gradient(loss, transformer.trainable_variables)    \n",
        "  optimizer.apply_gradients(zip(gradients, transformer.trainable_variables))\n",
        "  \n",
        "  train_loss(loss)\n",
        "  train_accuracy(tar_real, predictions)"
      ],
      "execution_count": null,
      "outputs": []
    },
    {
      "cell_type": "code",
      "metadata": {
        "id": "ccOvkekkXr2Q",
        "colab": {
          "base_uri": "https://localhost:8080/"
        },
        "outputId": "8ed7d2a9-ac00-48cd-c48a-102d3353af0e"
      },
      "source": [
        "for epoch in range(EPOCHS):\n",
        "  start = time.time()\n",
        "  \n",
        "  train_loss.reset_states()\n",
        "  train_accuracy.reset_states()\n",
        "  \n",
        "  # inp -> portuguese, tar -> english\n",
        "  for (batch, (inp, tar)) in enumerate(train_dataset):\n",
        "    train_step(inp, tar)\n",
        "    \n",
        "    if batch % 50 == 0:\n",
        "      print ('Epoch {} Batch {} Loss {:.4f} Accuracy {:.4f}'.format(\n",
        "          epoch + 1, batch, train_loss.result(), train_accuracy.result()))\n",
        "      \n",
        "  if (epoch + 1) % 5 == 0:\n",
        "    ckpt_save_path = ckpt_manager.save()\n",
        "    print ('Saving checkpoint for epoch {} at {}'.format(epoch+1,\n",
        "                                                         ckpt_save_path))\n",
        "    \n",
        "  print ('Epoch {} Loss {:.4f} Accuracy {:.4f}'.format(epoch + 1, \n",
        "                                                train_loss.result(), \n",
        "                                                train_accuracy.result()))\n",
        "\n",
        "  print ('Time taken for 1 epoch: {} secs\\n'.format(time.time() - start))"
      ],
      "execution_count": null,
      "outputs": [
        {
          "output_type": "stream",
          "text": [
            "Epoch 1 Batch 0 Loss 8.9940 Accuracy 0.0000\n",
            "Epoch 1 Batch 50 Loss 8.9396 Accuracy 0.0055\n",
            "Epoch 1 Batch 100 Loss 8.8455 Accuracy 0.0146\n",
            "Epoch 1 Batch 150 Loss 8.7407 Accuracy 0.0180\n",
            "Epoch 1 Batch 200 Loss 8.6124 Accuracy 0.0209\n",
            "Epoch 1 Batch 250 Loss 8.4577 Accuracy 0.0256\n",
            "Epoch 1 Batch 300 Loss 8.2818 Accuracy 0.0305\n",
            "Epoch 1 Batch 350 Loss 8.0962 Accuracy 0.0343\n",
            "Epoch 1 Batch 400 Loss 7.9167 Accuracy 0.0374\n",
            "Epoch 1 Batch 450 Loss 7.7559 Accuracy 0.0399\n",
            "Epoch 1 Batch 500 Loss 7.6106 Accuracy 0.0423\n",
            "Epoch 1 Batch 550 Loss 7.4810 Accuracy 0.0452\n",
            "Epoch 1 Batch 600 Loss 7.3564 Accuracy 0.0485\n",
            "Epoch 1 Batch 650 Loss 7.2378 Accuracy 0.0516\n",
            "Epoch 1 Batch 700 Loss 7.1236 Accuracy 0.0548\n",
            "Epoch 1 Loss 7.1192 Accuracy 0.0549\n",
            "Time taken for 1 epoch: 1066.206206560135 secs\n",
            "\n",
            "Epoch 2 Batch 0 Loss 5.6505 Accuracy 0.0970\n",
            "Epoch 2 Batch 50 Loss 5.5059 Accuracy 0.1043\n",
            "Epoch 2 Batch 100 Loss 5.4293 Accuracy 0.1064\n",
            "Epoch 2 Batch 150 Loss 5.3684 Accuracy 0.1082\n",
            "Epoch 2 Batch 200 Loss 5.3210 Accuracy 0.1103\n",
            "Epoch 2 Batch 250 Loss 5.2792 Accuracy 0.1123\n",
            "Epoch 2 Batch 300 Loss 5.2390 Accuracy 0.1142\n",
            "Epoch 2 Batch 350 Loss 5.1972 Accuracy 0.1159\n",
            "Epoch 2 Batch 400 Loss 5.1614 Accuracy 0.1175\n",
            "Epoch 2 Batch 450 Loss 5.1290 Accuracy 0.1189\n",
            "Epoch 2 Batch 500 Loss 5.1021 Accuracy 0.1203\n",
            "Epoch 2 Batch 550 Loss 5.0749 Accuracy 0.1216\n",
            "Epoch 2 Batch 600 Loss 5.0488 Accuracy 0.1230\n",
            "Epoch 2 Batch 650 Loss 5.0222 Accuracy 0.1244\n",
            "Epoch 2 Batch 700 Loss 4.9970 Accuracy 0.1255\n",
            "Epoch 2 Loss 4.9961 Accuracy 0.1256\n",
            "Time taken for 1 epoch: 1032.2544028759003 secs\n",
            "\n",
            "Epoch 3 Batch 0 Loss 4.8228 Accuracy 0.1284\n",
            "Epoch 3 Batch 50 Loss 4.5966 Accuracy 0.1449\n",
            "Epoch 3 Batch 100 Loss 4.5905 Accuracy 0.1442\n",
            "Epoch 3 Batch 150 Loss 4.5873 Accuracy 0.1450\n",
            "Epoch 3 Batch 200 Loss 4.5656 Accuracy 0.1456\n",
            "Epoch 3 Batch 250 Loss 4.5541 Accuracy 0.1457\n",
            "Epoch 3 Batch 300 Loss 4.5400 Accuracy 0.1468\n",
            "Epoch 3 Batch 350 Loss 4.5267 Accuracy 0.1473\n",
            "Epoch 3 Batch 400 Loss 4.5159 Accuracy 0.1475\n",
            "Epoch 3 Batch 450 Loss 4.5031 Accuracy 0.1483\n",
            "Epoch 3 Batch 500 Loss 4.4937 Accuracy 0.1487\n",
            "Epoch 3 Batch 550 Loss 4.4847 Accuracy 0.1492\n",
            "Epoch 3 Batch 600 Loss 4.4707 Accuracy 0.1498\n",
            "Epoch 3 Batch 650 Loss 4.4583 Accuracy 0.1503\n",
            "Epoch 3 Batch 700 Loss 4.4469 Accuracy 0.1510\n",
            "Epoch 3 Loss 4.4460 Accuracy 0.1511\n",
            "Time taken for 1 epoch: 1040.3413274288177 secs\n",
            "\n",
            "Epoch 4 Batch 0 Loss 4.2243 Accuracy 0.1687\n",
            "Epoch 4 Batch 50 Loss 4.1481 Accuracy 0.1676\n",
            "Epoch 4 Batch 100 Loss 4.1428 Accuracy 0.1681\n",
            "Epoch 4 Batch 150 Loss 4.1422 Accuracy 0.1674\n",
            "Epoch 4 Batch 200 Loss 4.1248 Accuracy 0.1681\n",
            "Epoch 4 Batch 250 Loss 4.1080 Accuracy 0.1690\n",
            "Epoch 4 Batch 300 Loss 4.0988 Accuracy 0.1694\n",
            "Epoch 4 Batch 350 Loss 4.0845 Accuracy 0.1699\n",
            "Epoch 4 Batch 400 Loss 4.0737 Accuracy 0.1707\n",
            "Epoch 4 Batch 450 Loss 4.0591 Accuracy 0.1716\n",
            "Epoch 4 Batch 500 Loss 4.0428 Accuracy 0.1726\n",
            "Epoch 4 Batch 550 Loss 4.0268 Accuracy 0.1735\n",
            "Epoch 4 Batch 600 Loss 4.0126 Accuracy 0.1742\n",
            "Epoch 4 Batch 650 Loss 3.9972 Accuracy 0.1752\n",
            "Epoch 4 Batch 700 Loss 3.9808 Accuracy 0.1763\n",
            "Epoch 4 Loss 3.9804 Accuracy 0.1763\n",
            "Time taken for 1 epoch: 1033.437115430832 secs\n",
            "\n",
            "Epoch 5 Batch 0 Loss 3.9805 Accuracy 0.1895\n",
            "Epoch 5 Batch 50 Loss 3.6148 Accuracy 0.1957\n",
            "Epoch 5 Batch 100 Loss 3.6332 Accuracy 0.1947\n",
            "Epoch 5 Batch 150 Loss 3.6227 Accuracy 0.1955\n",
            "Epoch 5 Batch 200 Loss 3.6099 Accuracy 0.1974\n",
            "Epoch 5 Batch 250 Loss 3.6011 Accuracy 0.1981\n",
            "Epoch 5 Batch 300 Loss 3.5895 Accuracy 0.1988\n",
            "Epoch 5 Batch 350 Loss 3.5784 Accuracy 0.1993\n",
            "Epoch 5 Batch 400 Loss 3.5682 Accuracy 0.2000\n",
            "Epoch 5 Batch 450 Loss 3.5573 Accuracy 0.2008\n",
            "Epoch 5 Batch 500 Loss 3.5483 Accuracy 0.2018\n",
            "Epoch 5 Batch 550 Loss 3.5352 Accuracy 0.2022\n",
            "Epoch 5 Batch 600 Loss 3.5238 Accuracy 0.2030\n",
            "Epoch 5 Batch 650 Loss 3.5146 Accuracy 0.2034\n",
            "Epoch 5 Batch 700 Loss 3.5036 Accuracy 0.2040\n",
            "Saving checkpoint for epoch 5 at ./checkpoints/train/ckpt-1\n",
            "Epoch 5 Loss 3.5027 Accuracy 0.2040\n",
            "Time taken for 1 epoch: 1040.671774148941 secs\n",
            "\n",
            "Epoch 6 Batch 0 Loss 3.0065 Accuracy 0.2150\n",
            "Epoch 6 Batch 50 Loss 3.1892 Accuracy 0.2165\n",
            "Epoch 6 Batch 100 Loss 3.2015 Accuracy 0.2170\n",
            "Epoch 6 Batch 150 Loss 3.1774 Accuracy 0.2189\n",
            "Epoch 6 Batch 200 Loss 3.1600 Accuracy 0.2201\n",
            "Epoch 6 Batch 250 Loss 3.1519 Accuracy 0.2206\n",
            "Epoch 6 Batch 300 Loss 3.1476 Accuracy 0.2208\n",
            "Epoch 6 Batch 350 Loss 3.1433 Accuracy 0.2212\n",
            "Epoch 6 Batch 400 Loss 3.1375 Accuracy 0.2216\n",
            "Epoch 6 Batch 450 Loss 3.1278 Accuracy 0.2225\n",
            "Epoch 6 Batch 500 Loss 3.1218 Accuracy 0.2233\n",
            "Epoch 6 Batch 550 Loss 3.1187 Accuracy 0.2236\n",
            "Epoch 6 Batch 600 Loss 3.1118 Accuracy 0.2243\n",
            "Epoch 6 Batch 650 Loss 3.1041 Accuracy 0.2249\n",
            "Epoch 6 Batch 700 Loss 3.0956 Accuracy 0.2258\n",
            "Epoch 6 Loss 3.0952 Accuracy 0.2258\n",
            "Time taken for 1 epoch: 1048.7509508132935 secs\n",
            "\n",
            "Epoch 7 Batch 0 Loss 2.9042 Accuracy 0.2674\n",
            "Epoch 7 Batch 50 Loss 2.7437 Accuracy 0.2413\n",
            "Epoch 7 Batch 100 Loss 2.7355 Accuracy 0.2421\n",
            "Epoch 7 Batch 150 Loss 2.7406 Accuracy 0.2435\n",
            "Epoch 7 Batch 200 Loss 2.7421 Accuracy 0.2440\n",
            "Epoch 7 Batch 250 Loss 2.7418 Accuracy 0.2441\n",
            "Epoch 7 Batch 300 Loss 2.7353 Accuracy 0.2452\n",
            "Epoch 7 Batch 350 Loss 2.7291 Accuracy 0.2461\n",
            "Epoch 7 Batch 400 Loss 2.7237 Accuracy 0.2465\n",
            "Epoch 7 Batch 450 Loss 2.7160 Accuracy 0.2467\n",
            "Epoch 7 Batch 500 Loss 2.7119 Accuracy 0.2475\n",
            "Epoch 7 Batch 550 Loss 2.7046 Accuracy 0.2476\n",
            "Epoch 7 Batch 600 Loss 2.7026 Accuracy 0.2478\n",
            "Epoch 7 Batch 650 Loss 2.6957 Accuracy 0.2483\n",
            "Epoch 7 Batch 700 Loss 2.6915 Accuracy 0.2486\n",
            "Epoch 7 Loss 2.6905 Accuracy 0.2486\n",
            "Time taken for 1 epoch: 1058.268191576004 secs\n",
            "\n",
            "Epoch 8 Batch 0 Loss 2.4766 Accuracy 0.2858\n",
            "Epoch 8 Batch 50 Loss 2.3619 Accuracy 0.2647\n",
            "Epoch 8 Batch 100 Loss 2.3785 Accuracy 0.2648\n",
            "Epoch 8 Batch 150 Loss 2.3845 Accuracy 0.2649\n",
            "Epoch 8 Batch 200 Loss 2.3948 Accuracy 0.2640\n",
            "Epoch 8 Batch 250 Loss 2.3956 Accuracy 0.2645\n",
            "Epoch 8 Batch 300 Loss 2.3927 Accuracy 0.2649\n",
            "Epoch 8 Batch 350 Loss 2.3835 Accuracy 0.2664\n",
            "Epoch 8 Batch 400 Loss 2.3822 Accuracy 0.2664\n",
            "Epoch 8 Batch 450 Loss 2.3771 Accuracy 0.2664\n",
            "Epoch 8 Batch 500 Loss 2.3770 Accuracy 0.2666\n",
            "Epoch 8 Batch 550 Loss 2.3754 Accuracy 0.2663\n",
            "Epoch 8 Batch 600 Loss 2.3758 Accuracy 0.2664\n",
            "Epoch 8 Batch 650 Loss 2.3735 Accuracy 0.2666\n",
            "Epoch 8 Batch 700 Loss 2.3719 Accuracy 0.2666\n",
            "Epoch 8 Loss 2.3720 Accuracy 0.2666\n",
            "Time taken for 1 epoch: 1062.9895899295807 secs\n",
            "\n",
            "Epoch 9 Batch 0 Loss 2.0563 Accuracy 0.2768\n",
            "Epoch 9 Batch 50 Loss 2.1033 Accuracy 0.2772\n",
            "Epoch 9 Batch 100 Loss 2.1179 Accuracy 0.2781\n",
            "Epoch 9 Batch 150 Loss 2.1197 Accuracy 0.2785\n",
            "Epoch 9 Batch 200 Loss 2.1228 Accuracy 0.2775\n",
            "Epoch 9 Batch 250 Loss 2.1255 Accuracy 0.2773\n",
            "Epoch 9 Batch 300 Loss 2.1258 Accuracy 0.2790\n",
            "Epoch 9 Batch 350 Loss 2.1279 Accuracy 0.2792\n",
            "Epoch 9 Batch 400 Loss 2.1285 Accuracy 0.2796\n",
            "Epoch 9 Batch 450 Loss 2.1318 Accuracy 0.2799\n",
            "Epoch 9 Batch 500 Loss 2.1376 Accuracy 0.2797\n",
            "Epoch 9 Batch 550 Loss 2.1357 Accuracy 0.2800\n",
            "Epoch 9 Batch 600 Loss 2.1368 Accuracy 0.2801\n",
            "Epoch 9 Batch 650 Loss 2.1352 Accuracy 0.2803\n",
            "Epoch 9 Batch 700 Loss 2.1381 Accuracy 0.2800\n",
            "Epoch 9 Loss 2.1383 Accuracy 0.2800\n",
            "Time taken for 1 epoch: 1057.7691297531128 secs\n",
            "\n",
            "Epoch 10 Batch 0 Loss 2.0024 Accuracy 0.3121\n",
            "Epoch 10 Batch 50 Loss 1.9116 Accuracy 0.2951\n",
            "Epoch 10 Batch 100 Loss 1.9063 Accuracy 0.2939\n",
            "Epoch 10 Batch 150 Loss 1.9203 Accuracy 0.2927\n",
            "Epoch 10 Batch 200 Loss 1.9300 Accuracy 0.2916\n",
            "Epoch 10 Batch 250 Loss 1.9354 Accuracy 0.2925\n",
            "Epoch 10 Batch 300 Loss 1.9441 Accuracy 0.2917\n",
            "Epoch 10 Batch 350 Loss 1.9462 Accuracy 0.2917\n",
            "Epoch 10 Batch 400 Loss 1.9479 Accuracy 0.2915\n",
            "Epoch 10 Batch 450 Loss 1.9484 Accuracy 0.2913\n",
            "Epoch 10 Batch 500 Loss 1.9530 Accuracy 0.2913\n",
            "Epoch 10 Batch 550 Loss 1.9567 Accuracy 0.2913\n",
            "Epoch 10 Batch 600 Loss 1.9596 Accuracy 0.2911\n",
            "Epoch 10 Batch 650 Loss 1.9607 Accuracy 0.2911\n",
            "Epoch 10 Batch 700 Loss 1.9641 Accuracy 0.2911\n",
            "Saving checkpoint for epoch 10 at ./checkpoints/train/ckpt-2\n",
            "Epoch 10 Loss 1.9640 Accuracy 0.2911\n",
            "Time taken for 1 epoch: 1063.6101706027985 secs\n",
            "\n",
            "Epoch 11 Batch 0 Loss 1.6716 Accuracy 0.2578\n",
            "Epoch 11 Batch 50 Loss 1.7542 Accuracy 0.2982\n",
            "Epoch 11 Batch 100 Loss 1.7583 Accuracy 0.2969\n",
            "Epoch 11 Batch 150 Loss 1.7735 Accuracy 0.2986\n",
            "Epoch 11 Batch 200 Loss 1.7758 Accuracy 0.2993\n",
            "Epoch 11 Batch 250 Loss 1.7835 Accuracy 0.3004\n",
            "Epoch 11 Batch 300 Loss 1.7887 Accuracy 0.3014\n",
            "Epoch 11 Batch 350 Loss 1.7926 Accuracy 0.3011\n",
            "Epoch 11 Batch 400 Loss 1.7960 Accuracy 0.3007\n",
            "Epoch 11 Batch 450 Loss 1.8008 Accuracy 0.2997\n",
            "Epoch 11 Batch 500 Loss 1.8044 Accuracy 0.2994\n",
            "Epoch 11 Batch 550 Loss 1.8110 Accuracy 0.2990\n",
            "Epoch 11 Batch 600 Loss 1.8158 Accuracy 0.2989\n",
            "Epoch 11 Batch 650 Loss 1.8191 Accuracy 0.2987\n",
            "Epoch 11 Batch 700 Loss 1.8235 Accuracy 0.2989\n",
            "Epoch 11 Loss 1.8239 Accuracy 0.2989\n",
            "Time taken for 1 epoch: 1048.8203718662262 secs\n",
            "\n",
            "Epoch 12 Batch 0 Loss 1.6063 Accuracy 0.3543\n",
            "Epoch 12 Batch 50 Loss 1.6397 Accuracy 0.3141\n",
            "Epoch 12 Batch 100 Loss 1.6419 Accuracy 0.3101\n",
            "Epoch 12 Batch 150 Loss 1.6524 Accuracy 0.3107\n",
            "Epoch 12 Batch 200 Loss 1.6638 Accuracy 0.3100\n",
            "Epoch 12 Batch 250 Loss 1.6701 Accuracy 0.3095\n",
            "Epoch 12 Batch 300 Loss 1.6666 Accuracy 0.3092\n",
            "Epoch 12 Batch 350 Loss 1.6748 Accuracy 0.3091\n",
            "Epoch 12 Batch 400 Loss 1.6799 Accuracy 0.3089\n",
            "Epoch 12 Batch 450 Loss 1.6848 Accuracy 0.3083\n",
            "Epoch 12 Batch 500 Loss 1.6900 Accuracy 0.3078\n",
            "Epoch 12 Batch 550 Loss 1.6935 Accuracy 0.3075\n",
            "Epoch 12 Batch 600 Loss 1.6973 Accuracy 0.3072\n",
            "Epoch 12 Batch 650 Loss 1.7003 Accuracy 0.3073\n",
            "Epoch 12 Batch 700 Loss 1.7059 Accuracy 0.3068\n",
            "Epoch 12 Loss 1.7055 Accuracy 0.3068\n",
            "Time taken for 1 epoch: 1051.3068008422852 secs\n",
            "\n",
            "Epoch 13 Batch 0 Loss 1.6257 Accuracy 0.3236\n",
            "Epoch 13 Batch 50 Loss 1.5265 Accuracy 0.3120\n",
            "Epoch 13 Batch 100 Loss 1.5305 Accuracy 0.3174\n",
            "Epoch 13 Batch 150 Loss 1.5466 Accuracy 0.3161\n",
            "Epoch 13 Batch 200 Loss 1.5531 Accuracy 0.3162\n",
            "Epoch 13 Batch 250 Loss 1.5605 Accuracy 0.3153\n",
            "Epoch 13 Batch 300 Loss 1.5678 Accuracy 0.3155\n",
            "Epoch 13 Batch 350 Loss 1.5717 Accuracy 0.3151\n",
            "Epoch 13 Batch 400 Loss 1.5771 Accuracy 0.3148\n",
            "Epoch 13 Batch 450 Loss 1.5810 Accuracy 0.3142\n",
            "Epoch 13 Batch 500 Loss 1.5868 Accuracy 0.3141\n",
            "Epoch 13 Batch 550 Loss 1.5941 Accuracy 0.3138\n",
            "Epoch 13 Batch 600 Loss 1.5991 Accuracy 0.3136\n",
            "Epoch 13 Batch 650 Loss 1.6041 Accuracy 0.3134\n",
            "Epoch 13 Batch 700 Loss 1.6083 Accuracy 0.3131\n",
            "Epoch 13 Loss 1.6086 Accuracy 0.3132\n",
            "Time taken for 1 epoch: 1060.9831893444061 secs\n",
            "\n",
            "Epoch 14 Batch 0 Loss 1.4928 Accuracy 0.3051\n",
            "Epoch 14 Batch 50 Loss 1.4613 Accuracy 0.3217\n",
            "Epoch 14 Batch 100 Loss 1.4634 Accuracy 0.3205\n",
            "Epoch 14 Batch 150 Loss 1.4703 Accuracy 0.3220\n",
            "Epoch 14 Batch 200 Loss 1.4793 Accuracy 0.3219\n",
            "Epoch 14 Batch 250 Loss 1.4819 Accuracy 0.3213\n",
            "Epoch 14 Batch 300 Loss 1.4869 Accuracy 0.3209\n",
            "Epoch 14 Batch 350 Loss 1.4917 Accuracy 0.3206\n",
            "Epoch 14 Batch 400 Loss 1.4983 Accuracy 0.3204\n",
            "Epoch 14 Batch 450 Loss 1.5023 Accuracy 0.3202\n",
            "Epoch 14 Batch 500 Loss 1.5089 Accuracy 0.3197\n",
            "Epoch 14 Batch 550 Loss 1.5118 Accuracy 0.3195\n",
            "Epoch 14 Batch 600 Loss 1.5152 Accuracy 0.3192\n",
            "Epoch 14 Batch 650 Loss 1.5199 Accuracy 0.3189\n",
            "Epoch 14 Batch 700 Loss 1.5245 Accuracy 0.3188\n",
            "Epoch 14 Loss 1.5247 Accuracy 0.3188\n",
            "Time taken for 1 epoch: 1060.2484421730042 secs\n",
            "\n",
            "Epoch 15 Batch 0 Loss 1.2178 Accuracy 0.3199\n",
            "Epoch 15 Batch 50 Loss 1.3601 Accuracy 0.3288\n",
            "Epoch 15 Batch 100 Loss 1.3760 Accuracy 0.3289\n",
            "Epoch 15 Batch 150 Loss 1.3807 Accuracy 0.3266\n",
            "Epoch 15 Batch 200 Loss 1.3922 Accuracy 0.3273\n",
            "Epoch 15 Batch 250 Loss 1.3983 Accuracy 0.3272\n",
            "Epoch 15 Batch 300 Loss 1.4012 Accuracy 0.3265\n",
            "Epoch 15 Batch 350 Loss 1.4089 Accuracy 0.3263\n",
            "Epoch 15 Batch 400 Loss 1.4123 Accuracy 0.3265\n",
            "Epoch 15 Batch 450 Loss 1.4154 Accuracy 0.3261\n",
            "Epoch 15 Batch 500 Loss 1.4224 Accuracy 0.3257\n",
            "Epoch 15 Batch 550 Loss 1.4289 Accuracy 0.3252\n",
            "Epoch 15 Batch 600 Loss 1.4335 Accuracy 0.3247\n",
            "Epoch 15 Batch 650 Loss 1.4394 Accuracy 0.3244\n",
            "Epoch 15 Batch 700 Loss 1.4460 Accuracy 0.3241\n",
            "Saving checkpoint for epoch 15 at ./checkpoints/train/ckpt-3\n",
            "Epoch 15 Loss 1.4464 Accuracy 0.3241\n",
            "Time taken for 1 epoch: 1069.5423181056976 secs\n",
            "\n",
            "Epoch 16 Batch 0 Loss 1.3127 Accuracy 0.3167\n",
            "Epoch 16 Batch 50 Loss 1.2859 Accuracy 0.3377\n",
            "Epoch 16 Batch 100 Loss 1.2934 Accuracy 0.3340\n",
            "Epoch 16 Batch 150 Loss 1.3062 Accuracy 0.3343\n",
            "Epoch 16 Batch 200 Loss 1.3151 Accuracy 0.3334\n",
            "Epoch 16 Batch 250 Loss 1.3248 Accuracy 0.3321\n",
            "Epoch 16 Batch 300 Loss 1.3351 Accuracy 0.3317\n",
            "Epoch 16 Batch 350 Loss 1.3425 Accuracy 0.3313\n",
            "Epoch 16 Batch 400 Loss 1.3475 Accuracy 0.3311\n",
            "Epoch 16 Batch 450 Loss 1.3526 Accuracy 0.3308\n",
            "Epoch 16 Batch 500 Loss 1.3562 Accuracy 0.3306\n",
            "Epoch 16 Batch 550 Loss 1.3634 Accuracy 0.3301\n",
            "Epoch 16 Batch 600 Loss 1.3700 Accuracy 0.3295\n",
            "Epoch 16 Batch 650 Loss 1.3768 Accuracy 0.3295\n",
            "Epoch 16 Batch 700 Loss 1.3816 Accuracy 0.3289\n",
            "Epoch 16 Loss 1.3819 Accuracy 0.3288\n",
            "Time taken for 1 epoch: 1061.3424570560455 secs\n",
            "\n",
            "Epoch 17 Batch 0 Loss 1.1866 Accuracy 0.3062\n",
            "Epoch 17 Batch 50 Loss 1.2256 Accuracy 0.3404\n",
            "Epoch 17 Batch 100 Loss 1.2362 Accuracy 0.3377\n",
            "Epoch 17 Batch 150 Loss 1.2484 Accuracy 0.3369\n",
            "Epoch 17 Batch 200 Loss 1.2619 Accuracy 0.3365\n",
            "Epoch 17 Batch 250 Loss 1.2684 Accuracy 0.3353\n",
            "Epoch 17 Batch 300 Loss 1.2766 Accuracy 0.3347\n",
            "Epoch 17 Batch 350 Loss 1.2811 Accuracy 0.3350\n",
            "Epoch 17 Batch 400 Loss 1.2843 Accuracy 0.3354\n",
            "Epoch 17 Batch 450 Loss 1.2908 Accuracy 0.3352\n",
            "Epoch 17 Batch 500 Loss 1.2979 Accuracy 0.3346\n",
            "Epoch 17 Batch 550 Loss 1.3047 Accuracy 0.3340\n",
            "Epoch 17 Batch 600 Loss 1.3127 Accuracy 0.3334\n",
            "Epoch 17 Batch 650 Loss 1.3191 Accuracy 0.3330\n",
            "Epoch 17 Batch 700 Loss 1.3235 Accuracy 0.3325\n",
            "Epoch 17 Loss 1.3237 Accuracy 0.3325\n",
            "Time taken for 1 epoch: 1065.8677535057068 secs\n",
            "\n",
            "Epoch 18 Batch 0 Loss 1.1814 Accuracy 0.2995\n",
            "Epoch 18 Batch 50 Loss 1.1897 Accuracy 0.3447\n",
            "Epoch 18 Batch 100 Loss 1.2002 Accuracy 0.3426\n",
            "Epoch 18 Batch 150 Loss 1.2101 Accuracy 0.3413\n",
            "Epoch 18 Batch 200 Loss 1.2133 Accuracy 0.3409\n",
            "Epoch 18 Batch 250 Loss 1.2199 Accuracy 0.3402\n",
            "Epoch 18 Batch 300 Loss 1.2233 Accuracy 0.3399\n",
            "Epoch 18 Batch 350 Loss 1.2332 Accuracy 0.3389\n",
            "Epoch 18 Batch 400 Loss 1.2392 Accuracy 0.3387\n",
            "Epoch 18 Batch 450 Loss 1.2440 Accuracy 0.3380\n",
            "Epoch 18 Batch 500 Loss 1.2473 Accuracy 0.3378\n",
            "Epoch 18 Batch 550 Loss 1.2521 Accuracy 0.3377\n",
            "Epoch 18 Batch 600 Loss 1.2561 Accuracy 0.3371\n",
            "Epoch 18 Batch 650 Loss 1.2632 Accuracy 0.3369\n",
            "Epoch 18 Batch 700 Loss 1.2686 Accuracy 0.3365\n",
            "Epoch 18 Loss 1.2686 Accuracy 0.3365\n",
            "Time taken for 1 epoch: 1070.9937529563904 secs\n",
            "\n",
            "Epoch 19 Batch 0 Loss 0.9749 Accuracy 0.3433\n",
            "Epoch 19 Batch 50 Loss 1.1369 Accuracy 0.3481\n",
            "Epoch 19 Batch 100 Loss 1.1471 Accuracy 0.3474\n",
            "Epoch 19 Batch 150 Loss 1.1511 Accuracy 0.3455\n",
            "Epoch 19 Batch 200 Loss 1.1557 Accuracy 0.3449\n",
            "Epoch 19 Batch 250 Loss 1.1627 Accuracy 0.3446\n",
            "Epoch 19 Batch 300 Loss 1.1696 Accuracy 0.3434\n",
            "Epoch 19 Batch 350 Loss 1.1768 Accuracy 0.3435\n",
            "Epoch 19 Batch 400 Loss 1.1829 Accuracy 0.3436\n",
            "Epoch 19 Batch 450 Loss 1.1880 Accuracy 0.3436\n",
            "Epoch 19 Batch 500 Loss 1.1942 Accuracy 0.3427\n",
            "Epoch 19 Batch 550 Loss 1.2026 Accuracy 0.3423\n",
            "Epoch 19 Batch 600 Loss 1.2091 Accuracy 0.3409\n",
            "Epoch 19 Batch 650 Loss 1.2141 Accuracy 0.3407\n",
            "Epoch 19 Batch 700 Loss 1.2205 Accuracy 0.3404\n",
            "Epoch 19 Loss 1.2205 Accuracy 0.3404\n",
            "Time taken for 1 epoch: 1070.379447221756 secs\n",
            "\n",
            "Epoch 20 Batch 0 Loss 1.1273 Accuracy 0.3643\n",
            "Epoch 20 Batch 50 Loss 1.0810 Accuracy 0.3458\n",
            "Epoch 20 Batch 100 Loss 1.0961 Accuracy 0.3480\n",
            "Epoch 20 Batch 150 Loss 1.1083 Accuracy 0.3457\n",
            "Epoch 20 Batch 200 Loss 1.1193 Accuracy 0.3468\n",
            "Epoch 20 Batch 250 Loss 1.1271 Accuracy 0.3468\n",
            "Epoch 20 Batch 300 Loss 1.1297 Accuracy 0.3466\n",
            "Epoch 20 Batch 350 Loss 1.1371 Accuracy 0.3458\n",
            "Epoch 20 Batch 400 Loss 1.1415 Accuracy 0.3452\n",
            "Epoch 20 Batch 450 Loss 1.1495 Accuracy 0.3444\n",
            "Epoch 20 Batch 500 Loss 1.1549 Accuracy 0.3444\n",
            "Epoch 20 Batch 550 Loss 1.1582 Accuracy 0.3439\n",
            "Epoch 20 Batch 600 Loss 1.1634 Accuracy 0.3440\n",
            "Epoch 20 Batch 650 Loss 1.1689 Accuracy 0.3440\n",
            "Epoch 20 Batch 700 Loss 1.1762 Accuracy 0.3434\n",
            "Saving checkpoint for epoch 20 at ./checkpoints/train/ckpt-4\n",
            "Epoch 20 Loss 1.1766 Accuracy 0.3434\n",
            "Time taken for 1 epoch: 1080.8007872104645 secs\n",
            "\n"
          ],
          "name": "stdout"
        }
      ]
    },
    {
      "cell_type": "markdown",
      "metadata": {
        "id": "2XsQiUCMXu6q"
      },
      "source": [
        "## Evaluate"
      ]
    },
    {
      "cell_type": "code",
      "metadata": {
        "id": "aPjWbbuLXumW"
      },
      "source": [
        "def evaluate(inp_sentence):\n",
        "  start_token = [tokenizer_pt.vocab_size]\n",
        "  end_token = [tokenizer_pt.vocab_size + 1]\n",
        "  \n",
        "  # inp sentence is portuguese, hence adding the start and end token\n",
        "  inp_sentence = start_token + tokenizer_pt.encode(inp_sentence) + end_token\n",
        "  encoder_input = tf.expand_dims(inp_sentence, 0)\n",
        "  \n",
        "  # as the target is english, the first word to the transformer should be the\n",
        "  # english start token.\n",
        "  decoder_input = [tokenizer_en.vocab_size]\n",
        "  output = tf.expand_dims(decoder_input, 0)\n",
        "    \n",
        "  for i in range(MAX_LENGTH):\n",
        "    enc_padding_mask, combined_mask, dec_padding_mask = create_masks(\n",
        "        encoder_input, output)\n",
        "  \n",
        "    # predictions.shape == (batch_size, seq_len, vocab_size)\n",
        "    predictions, attention_weights = transformer(encoder_input, \n",
        "                                                 output,\n",
        "                                                 False,\n",
        "                                                 enc_padding_mask,\n",
        "                                                 combined_mask,\n",
        "                                                 dec_padding_mask)\n",
        "    \n",
        "    # select the last word from the seq_len dimension\n",
        "    predictions = predictions[: ,-1:, :]  # (batch_size, 1, vocab_size)\n",
        "\n",
        "    predicted_id = tf.cast(tf.argmax(predictions, axis=-1), tf.int32)\n",
        "    \n",
        "    # return the result if the predicted_id is equal to the end token\n",
        "    if predicted_id == tokenizer_en.vocab_size+1:\n",
        "      return tf.squeeze(output, axis=0), attention_weights\n",
        "    \n",
        "    # concatentate the predicted_id to the output which is given to the decoder\n",
        "    # as its input.\n",
        "    output = tf.concat([output, predicted_id], axis=-1)\n",
        "\n",
        "  return tf.squeeze(output, axis=0), attention_weights"
      ],
      "execution_count": null,
      "outputs": []
    },
    {
      "cell_type": "code",
      "metadata": {
        "id": "q8kB3zGoXxRE"
      },
      "source": [
        "def plot_attention_weights(attention, sentence, result, layer):\n",
        "  fig = plt.figure(figsize=(16, 8))\n",
        "  \n",
        "  sentence = tokenizer_pt.encode(sentence)\n",
        "  \n",
        "  attention = tf.squeeze(attention[layer], axis=0)\n",
        "  \n",
        "  for head in range(attention.shape[0]):\n",
        "    ax = fig.add_subplot(2, 4, head+1)\n",
        "    \n",
        "    # plot the attention weights\n",
        "    ax.matshow(attention[head][:-1, :], cmap='viridis')\n",
        "\n",
        "    fontdict = {'fontsize': 10}\n",
        "    \n",
        "    ax.set_xticks(range(len(sentence)+2))\n",
        "    ax.set_yticks(range(len(result)))\n",
        "    \n",
        "    ax.set_ylim(len(result)-1.5, -0.5)\n",
        "        \n",
        "    ax.set_xticklabels(\n",
        "        ['<start>']+[tokenizer_pt.decode([i]) for i in sentence]+['<end>'], \n",
        "        fontdict=fontdict, rotation=90)\n",
        "    \n",
        "    ax.set_yticklabels([tokenizer_en.decode([i]) for i in result \n",
        "                        if i < tokenizer_en.vocab_size], \n",
        "                       fontdict=fontdict)\n",
        "    \n",
        "    ax.set_xlabel('Head {}'.format(head+1))\n",
        "  \n",
        "  plt.tight_layout()\n",
        "  plt.show()"
      ],
      "execution_count": null,
      "outputs": []
    },
    {
      "cell_type": "code",
      "metadata": {
        "id": "2AjtSviPXyhF"
      },
      "source": [
        "def translate(sentence, plot=''):\n",
        "  result, attention_weights = evaluate(sentence)\n",
        "  \n",
        "  predicted_sentence = tokenizer_en.decode([i for i in result \n",
        "                                            if i < tokenizer_en.vocab_size])  \n",
        "\n",
        "  print('Input: {}'.format(sentence))\n",
        "  print('Predicted translation: {}'.format(predicted_sentence))\n",
        "  \n",
        "  if plot:\n",
        "    plot_attention_weights(attention_weights, sentence, result, plot)"
      ],
      "execution_count": null,
      "outputs": []
    },
    {
      "cell_type": "code",
      "metadata": {
        "id": "BWyl3RnQXz4C",
        "colab": {
          "base_uri": "https://localhost:8080/"
        },
        "outputId": "d8eb3aef-daf4-4151-eea4-554e51540da4"
      },
      "source": [
        "translate(\"este é um problema que temos que resolver.\")\n",
        "print (\"Real translation: this is a problem we have to solve .\")"
      ],
      "execution_count": null,
      "outputs": [
        {
          "output_type": "stream",
          "text": [
            "Input: este é um problema que temos que resolver.\n",
            "Predicted translation: this is a problem , we have to solve ...... ''\n",
            "Real translation: this is a problem we have to solve .\n"
          ],
          "name": "stdout"
        }
      ]
    },
    {
      "cell_type": "code",
      "metadata": {
        "id": "Bw2RZu9kX1Ol",
        "colab": {
          "base_uri": "https://localhost:8080/"
        },
        "outputId": "4cb5d93e-c3c5-4eaf-ba0f-9dcf1bb1f085"
      },
      "source": [
        "translate(\"os meus vizinhos ouviram sobre esta ideia.\")\n",
        "print (\"Real translation: and my neighboring homes heard about this idea .\")"
      ],
      "execution_count": null,
      "outputs": [
        {
          "output_type": "stream",
          "text": [
            "Input: os meus vizinhos ouviram sobre esta ideia.\n",
            "Predicted translation: my neighbors have heard about this idea .\n",
            "Real translation: and my neighboring homes heard about this idea .\n"
          ],
          "name": "stdout"
        }
      ]
    },
    {
      "cell_type": "code",
      "metadata": {
        "id": "T91A3vMOX2jK",
        "colab": {
          "base_uri": "https://localhost:8080/"
        },
        "outputId": "85433975-6aa3-49d7-901e-602bc9b38ef1"
      },
      "source": [
        "translate(\"vou então muito rapidamente partilhar convosco algumas histórias de algumas coisas mágicas que aconteceram.\")\n",
        "print (\"Real translation: so i 'll just share with you some stories very quickly of some magical things that have happened .\")"
      ],
      "execution_count": null,
      "outputs": [
        {
          "output_type": "stream",
          "text": [
            "Input: vou então muito rapidamente partilhar convosco algumas histórias de algumas coisas mágicas que aconteceram.\n",
            "Predicted translation: so i 'm going to quickly share with you some stories of some magic things , which has happened .\n",
            "Real translation: so i 'll just share with you some stories very quickly of some magical things that have happened .\n"
          ],
          "name": "stdout"
        }
      ]
    },
    {
      "cell_type": "code",
      "metadata": {
        "id": "Fpfvwjf4X34K",
        "colab": {
          "base_uri": "https://localhost:8080/",
          "height": 577
        },
        "outputId": "401b725d-6d32-449a-8e9b-ca191f62b723"
      },
      "source": [
        "translate(\"este é o primeiro livro que eu fiz.\", plot='decoder_layer4_block2')\n",
        "print (\"Real translation: this is the first book i've ever done.\")"
      ],
      "execution_count": null,
      "outputs": [
        {
          "output_type": "stream",
          "text": [
            "Input: este é o primeiro livro que eu fiz.\n",
            "Predicted translation: this is the first book that i did , the first of the same children 's book .\n"
          ],
          "name": "stdout"
        },
        {
          "output_type": "display_data",
          "data": {
            "image/png": "[encoded data removed]",
            "text/plain": [
              "<Figure size 1152x576 with 8 Axes>"
            ]
          },
          "metadata": {
            "needs_background": "light"
          }
        },
        {
          "output_type": "stream",
          "text": [
            "Real translation: this is the first book i've ever done.\n"
          ],
          "name": "stdout"
        }
      ]
    }
  ]
}