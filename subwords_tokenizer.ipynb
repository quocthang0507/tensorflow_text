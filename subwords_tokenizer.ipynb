{
  "nbformat": 4,
  "nbformat_minor": 0,
  "metadata": {
    "colab": {
      "name": "subwords_tokenizer",
      "provenance": [],
      "collapsed_sections": [
        "PxOYBzVqE7mX",
        "8e--LsVQqOI7",
        "Zly47bRHqXiK",
        "l7jW_PuprCuu",
        "NFSRsEw3s4I7"
      ],
      "authorship_tag": "ABX9TyO8EzVRXZDctkMahPNYmMzH"
    },
    "kernelspec": {
      "name": "python3",
      "display_name": "Python 3"
    },
    "language_info": {
      "name": "python"
    }
  },
  "cells": [
    {
      "cell_type": "markdown",
      "metadata": {
        "id": "rsmttoGtjoMz"
      },
      "source": [
        "Copyright 2019 The TensorFlow Authors.\n",
        "\n",
        "```\n",
        "@title Licensed under the Apache License, Version 2.0 (the \"License\"); you may not use this file except in compliance with the License.\n",
        "You may obtain a copy of the License at\n",
        "https://www.apache.org/licenses/LICENSE-2.0\n",
        "Unless required by applicable law or agreed to in writing, software distributed under the License is distributed on an \"AS IS\" BASIS, WITHOUT WARRANTIES OR CONDITIONS OF ANY KIND, either express or implied. See the License for the specific language governing permissions and limitations under the License.\n",
        "```"
      ]
    },
    {
      "cell_type": "markdown",
      "metadata": {
        "id": "LS4GXEHwjzZp"
      },
      "source": [
        "# Token hoá từ con\n",
        "\n",
        "Hướng dẫn này trình bày làm thế nào để tạo ra một từ vựng từ con từ một tập dữ liệu, và sử dụng nó để xây dựng một `text.BertTokenizer` từ từ vựng.\n",
        "\n",
        "Ưu điểm chính của tokenizer từ con là nó nội suy giữa token hóa dựa trên từ và trên ký tự. Các từ thông dụng có một vị trí trong từ vựng, nhưng tokenizer có thể rơi trở lại các mảnh từ và các ký tự riêng đối với các từ không xác định.\n",
        "\n",
        "Mục tiêu: Vào cuối hướng dẫn này bạn sẽ xây dựng được hoàn toàn tokenizer từ đầu đến cuối mảnh từ và detokenizer từ tạp nham, và lưu nó như là một `saved_model` mà bạn có thể tải và sử dụng trong này [hướng dẫn dịch](https://tensorflow.org/text/tutorials/transformer)."
      ]
    },
    {
      "cell_type": "markdown",
      "metadata": {
        "id": "PxOYBzVqE7mX"
      },
      "source": [
        "## Tổng quan\n",
        "\n",
        "Các gói `tensorflow_text` bao gồm triển khai TensorFlow của nhiều tokenizer chung. Điều này bao gồm ba loại tokenizers kiểu từ con:\n",
        "\n",
        "* `text.BertTokenizer` - Lớp BertTokenizer là một giao diện cấp cao hơn. Nó bao gồm các thuật toán tách token của Bert và một `WordPieceTokenizer`. Nó lấy **các câu** như đầu vào và trả về các **token-ID**.\n",
        "\n",
        "* `text.WordpieceTokenizer` - Lớp `WordPieceTokenizer` là một giao diện cấp thấp hơn. Nó chỉ thực hiện [thuật toán WordPiece](https://render.githubusercontent.com/view/ipynb?color_mode=auto&commit=76788f6fd58fb2e4c3d7de3e95ea70f0a671ad97&enc_url=68747470733a2f2f7261772e67697468756275736572636f6e74656e742e636f6d2f74656e736f72666c6f772f746578742f373637383866366664353866623265346333643764653365393565613730663061363731616439372f646f63732f67756964652f737562776f7264735f746f6b656e697a65722e6970796e62&nwo=tensorflow%2Ftext&path=docs%2Fguide%2Fsubwords_tokenizer.ipynb&repository_id=189305903&repository_type=Repository#applying_wordpiece). Bạn phải chuẩn hóa và tách văn bản thành các từ trước khi gọi nó. Nó lấy **các từ** như đầu vào và trả về các **token-ID**.\n",
        "\n",
        "* `text.SentencepieceTokenizer` - `SentencepieceTokenizer` yêu cầu một thiết lập phức tạp hơn. Bộ khởi tạo của nó yêu cầu một mô hình mảnh câu tiền đào tạo. Xem [kho google/sentencepiece](https://github.com/google/sentencepiece#train-sentencepiece-model) để được hướng dẫn làm thế nào xây dựng một trong những mô hình này. Nó có thể chấp nhận **các câu** như đầu vào khi token hoá.\n",
        "\n",
        "Hướng dẫn này xây dựng một từ vựng Mảnh từ theo cách từ trên xuống, bắt đầu từ các từ hiện có. Quá trình này không hoạt động ở tiếng Nhật, tiếng Trung hoặc tiếng Hàn vì những ngôn ngữ này không có các đơn vị nhiều ký tự rõ ràng. Để token hoá các ngôn ngữ đó cân nhắc sử dụng `text.SentencepieceTokenizer`, `text.UnicodeCharTokenizer` hoặc [cách tiếp cận này](https://tfhub.dev/google/zh_segmentation/1)."
      ]
    },
    {
      "cell_type": "markdown",
      "metadata": {
        "id": "8e--LsVQqOI7"
      },
      "source": [
        "## Cài đặt\n",
        "\n"
      ]
    },
    {
      "cell_type": "code",
      "metadata": {
        "id": "SrcCCuMhqQ9E"
      },
      "source": [
        "!pip install -q -U tensorflow-text"
      ],
      "execution_count": null,
      "outputs": []
    },
    {
      "cell_type": "code",
      "metadata": {
        "id": "zb0G1l_oqRnr"
      },
      "source": [
        "!pip install -q tensorflow_datasets"
      ],
      "execution_count": null,
      "outputs": []
    },
    {
      "cell_type": "code",
      "metadata": {
        "id": "m7I3jsrbqS5x"
      },
      "source": [
        "import collections\n",
        "import os\n",
        "import pathlib\n",
        "import re\n",
        "import string\n",
        "import sys\n",
        "import tempfile\n",
        "import time\n",
        "\n",
        "import numpy as np\n",
        "import matplotlib.pyplot as plt\n",
        "\n",
        "import tensorflow_datasets as tfds\n",
        "import tensorflow_text as text\n",
        "import tensorflow as tf"
      ],
      "execution_count": null,
      "outputs": []
    },
    {
      "cell_type": "code",
      "metadata": {
        "id": "caetoEsgqU9J"
      },
      "source": [
        "tf.get_logger().setLevel('ERROR')\n",
        "pwd = pathlib.Path.cwd()"
      ],
      "execution_count": null,
      "outputs": []
    },
    {
      "cell_type": "markdown",
      "metadata": {
        "id": "Zly47bRHqXiK"
      },
      "source": [
        "## Tải về tập dữ liệu\n",
        "\n",
        "Lấy tập dữ liệu dịch tiếng Bồ Đào Nha/Anh từ [tfds](https://tensorflow.org/datasets):"
      ]
    },
    {
      "cell_type": "code",
      "metadata": {
        "id": "7b3xv1_-qjCZ"
      },
      "source": [
        "examples, metadata = tfds.load('ted_hrlr_translate/pt_to_en', with_info=True,\n",
        "                               as_supervised=True)\n",
        "train_examples, val_examples = examples['train'], examples['validation']"
      ],
      "execution_count": null,
      "outputs": []
    },
    {
      "cell_type": "markdown",
      "metadata": {
        "id": "seQT2q2sqlS3"
      },
      "source": [
        "Tập dữ liệu này tạo ra các cặp câu tiếng Bồ Đào Nha/Anh:"
      ]
    },
    {
      "cell_type": "code",
      "metadata": {
        "id": "naQZe5HbqyDV"
      },
      "source": [
        "for pt, en in train_examples.take(1):\n",
        "  print(\"Portuguese: \", pt.numpy().decode('utf-8'))\n",
        "  print(\"English:   \", en.numpy().decode('utf-8'))"
      ],
      "execution_count": null,
      "outputs": []
    },
    {
      "cell_type": "markdown",
      "metadata": {
        "id": "T0DaiHgPq2kE"
      },
      "source": [
        "Lưu ý một số điều về các câu ví dụ ở trên:\n",
        "\n",
        "* Chúng là chữ thường.\n",
        "* Có khoảng trắng xung quanh dấu câu.\n",
        "* Không rõ liệu chuẩn hóa unicode có đang được sử dụng hay không."
      ]
    },
    {
      "cell_type": "code",
      "metadata": {
        "id": "huSfCz59rAHo"
      },
      "source": [
        "train_en = train_examples.map(lambda pt, en: en)\n",
        "train_pt = train_examples.map(lambda pt, en: pt)"
      ],
      "execution_count": null,
      "outputs": []
    },
    {
      "cell_type": "markdown",
      "metadata": {
        "id": "l7jW_PuprCuu"
      },
      "source": [
        "## Tạo từ vựng\n",
        "\n",
        "Phần này tạo ra một từ vựng mảnh từ từ một tập dữ liệu. Nếu bạn đã có một tập tin từ vựng và chỉ muốn xem làm thế nào để xây dựng một `text.BertTokenizer` hoặc tolenizer `text.Wordpiece` với nó thì bạn có thể bỏ qua thẳng đến phần [xây dựng các tokenizer](https://render.githubusercontent.com/view/ipynb?color_mode=auto&commit=76788f6fd58fb2e4c3d7de3e95ea70f0a671ad97&enc_url=68747470733a2f2f7261772e67697468756275736572636f6e74656e742e636f6d2f74656e736f72666c6f772f746578742f373637383866366664353866623265346333643764653365393565613730663061363731616439372f646f63732f67756964652f737562776f7264735f746f6b656e697a65722e6970796e62&nwo=tensorflow%2Ftext&path=docs%2Fguide%2Fsubwords_tokenizer.ipynb&repository_id=189305903&repository_type=Repository#build_the_tokenizer).\n",
        "\n",
        "Lưu ý: Mã sinh từ vựng được sử dụng trong hướng dẫn này được tối ưu hóa cho **đơn giản**. Nếu bạn cần một giải pháp mở rộng hơn xem xét sử dụng triển khai Apache Beam sẵn có trong [tools/wordpiece_vocab/generate_vocab.py](https://github.com/tensorflow/text/blob/master/tensorflow_text/tools/wordpiece_vocab/generate_vocab.py)\n",
        "\n",
        "\n",
        "Mã sinh từ vựng được bao gồm trong gói pip `tensorflow_text`. Nó không được nhập mặc định nên bạn cần phải nhập thủ công:"
      ]
    },
    {
      "cell_type": "code",
      "metadata": {
        "id": "_LqwHy2jrCY-"
      },
      "source": [
        "from tensorflow_text.tools.wordpiece_vocab import bert_vocab_from_dataset as bert_vocab"
      ],
      "execution_count": null,
      "outputs": []
    },
    {
      "cell_type": "markdown",
      "metadata": {
        "id": "TisYjtzur5P3"
      },
      "source": [
        "Hàm `bert_vocab.bert_vocab_from_dataset` sẽ tạo ra các từ vựng.\n",
        "\n",
        "Có nhiều đối số bạn có thể đặt để điều chỉnh hành vi của nó. Đối với hướng dẫn này, bạn sẽ chủ yếu sử dụng các giá trị mặc định. Nếu bạn muốn tìm hiểu thêm về các tùy chọn, đầu tiên đọc [thuật toán](https://render.githubusercontent.com/view/ipynb?color_mode=auto&commit=76788f6fd58fb2e4c3d7de3e95ea70f0a671ad97&enc_url=68747470733a2f2f7261772e67697468756275736572636f6e74656e742e636f6d2f74656e736f72666c6f772f746578742f373637383866366664353866623265346333643764653365393565613730663061363731616439372f646f63732f67756964652f737562776f7264735f746f6b656e697a65722e6970796e62&nwo=tensorflow%2Ftext&path=docs%2Fguide%2Fsubwords_tokenizer.ipynb&repository_id=189305903&repository_type=Repository#algorithm), và sau đó có nhìn vào [mã này](https://github.com/tensorflow/text/blob/master/tensorflow_text/tools/wordpiece_vocab/bert_vocab_from_dataset.py).\n",
        "\n",
        "Quá trình này mất khoảng 2 phút."
      ]
    },
    {
      "cell_type": "code",
      "metadata": {
        "id": "16kSnNjKsRSu"
      },
      "source": [
        "bert_tokenizer_params=dict(lower_case=True)\n",
        "reserved_tokens=[\"[PAD]\", \"[UNK]\", \"[START]\", \"[END]\"]\n",
        "\n",
        "bert_vocab_args = dict(\n",
        "    # The target vocabulary size\n",
        "    vocab_size = 8000,\n",
        "    # Reserved tokens that must be included in the vocabulary\n",
        "    reserved_tokens=reserved_tokens,\n",
        "    # Arguments for `text.BertTokenizer`\n",
        "    bert_tokenizer_params=bert_tokenizer_params,\n",
        "    # Arguments for `wordpiece_vocab.wordpiece_tokenizer_learner_lib.learn`\n",
        "    learn_params={},\n",
        ")"
      ],
      "execution_count": null,
      "outputs": []
    },
    {
      "cell_type": "code",
      "metadata": {
        "id": "UuL3o6zKsTfR"
      },
      "source": [
        "%%time\n",
        "pt_vocab = bert_vocab.bert_vocab_from_dataset(\n",
        "    train_pt.batch(1000).prefetch(2),\n",
        "    **bert_vocab_args\n",
        ")"
      ],
      "execution_count": null,
      "outputs": []
    },
    {
      "cell_type": "markdown",
      "metadata": {
        "id": "D0TMfvvJsU92"
      },
      "source": [
        "Đây là các vết cắt của kết quả từ vựng."
      ]
    },
    {
      "cell_type": "code",
      "metadata": {
        "id": "NAQ2O4bFsh1x"
      },
      "source": [
        "print(pt_vocab[:10])\n",
        "print(pt_vocab[100:110])\n",
        "print(pt_vocab[1000:1010])\n",
        "print(pt_vocab[-10:])"
      ],
      "execution_count": null,
      "outputs": []
    },
    {
      "cell_type": "markdown",
      "metadata": {
        "id": "vePXlMtJskR4"
      },
      "source": [
        "Viết tập tin từ vựng:"
      ]
    },
    {
      "cell_type": "code",
      "metadata": {
        "id": "-9rxQJ4asme7"
      },
      "source": [
        "def write_vocab_file(filepath, vocab):\n",
        "  with open(filepath, 'w') as f:\n",
        "    for token in vocab:\n",
        "      print(token, file=f)"
      ],
      "execution_count": null,
      "outputs": []
    },
    {
      "cell_type": "code",
      "metadata": {
        "id": "QomCN--Wsp7Z"
      },
      "source": [
        "write_vocab_file('pt_vocab.txt', pt_vocab)"
      ],
      "execution_count": null,
      "outputs": []
    },
    {
      "cell_type": "markdown",
      "metadata": {
        "id": "6wvu8Satsrqf"
      },
      "source": [
        "Sử dụng hàm đó để tạo từ vựng từ dữ liệu tiếng Anh:"
      ]
    },
    {
      "cell_type": "code",
      "metadata": {
        "id": "E5P05WvUsu3C"
      },
      "source": [
        "%%time\n",
        "en_vocab = bert_vocab.bert_vocab_from_dataset(\n",
        "    train_en.batch(1000).prefetch(2),\n",
        "    **bert_vocab_args\n",
        ")"
      ],
      "execution_count": null,
      "outputs": []
    },
    {
      "cell_type": "code",
      "metadata": {
        "id": "-_3WNyetswmC"
      },
      "source": [
        "print(en_vocab[:10])\n",
        "print(en_vocab[100:110])\n",
        "print(en_vocab[1000:1010])\n",
        "print(en_vocab[-10:])"
      ],
      "execution_count": null,
      "outputs": []
    },
    {
      "cell_type": "markdown",
      "metadata": {
        "id": "eg4J0qf2sx1m"
      },
      "source": [
        "Đây là hai tập tin từ vựng:"
      ]
    },
    {
      "cell_type": "code",
      "metadata": {
        "id": "14HvaAkfs1GD"
      },
      "source": [
        "write_vocab_file('en_vocab.txt', en_vocab)"
      ],
      "execution_count": null,
      "outputs": []
    },
    {
      "cell_type": "code",
      "metadata": {
        "id": "VhSsa4Aas2RF"
      },
      "source": [
        "!ls *.txt"
      ],
      "execution_count": null,
      "outputs": []
    },
    {
      "cell_type": "markdown",
      "metadata": {
        "id": "NFSRsEw3s4I7"
      },
      "source": [
        "## Xây dựng tokenizer\n",
        "\n",
        "`text.BertTokenizer` có thể được khởi tạo bằng cách truyền đường dẫn của tập tin từ vựng làm đối số đầu tiên (xem phần [tf.lookup](https://render.githubusercontent.com/view/ipynb?color_mode=auto&commit=76788f6fd58fb2e4c3d7de3e95ea70f0a671ad97&enc_url=68747470733a2f2f7261772e67697468756275736572636f6e74656e742e636f6d2f74656e736f72666c6f772f746578742f373637383866366664353866623265346333643764653365393565613730663061363731616439372f646f63732f67756964652f737562776f7264735f746f6b656e697a65722e6970796e62&nwo=tensorflow%2Ftext&path=docs%2Fguide%2Fsubwords_tokenizer.ipynb&repository_id=189305903&repository_type=Repository#tf.lookup) để biết các tùy chọn khác):"
      ]
    },
    {
      "cell_type": "code",
      "metadata": {
        "id": "1IXwU2QttIOe"
      },
      "source": [
        "pt_tokenizer = text.BertTokenizer('pt_vocab.txt', **bert_tokenizer_params)\n",
        "en_tokenizer = text.BertTokenizer('en_vocab.txt', **bert_tokenizer_params)"
      ],
      "execution_count": null,
      "outputs": []
    },
    {
      "cell_type": "markdown",
      "metadata": {
        "id": "T2CU5eRatKhX"
      },
      "source": [
        "Bây giờ bạn có thể sử dụng nó để mã hóa một số văn bản. Lấy một lô 3 ví dụ từ dữ liệu tiếng Anh:"
      ]
    },
    {
      "cell_type": "code",
      "metadata": {
        "id": "q4mGFL2CtNfM"
      },
      "source": [
        "for pt_examples, en_examples in train_examples.batch(3).take(1):\n",
        "  for ex in en_examples:\n",
        "    print(ex.numpy())"
      ],
      "execution_count": null,
      "outputs": []
    },
    {
      "cell_type": "markdown",
      "metadata": {
        "id": "G8Gc0ZgytP_a"
      },
      "source": [
        "Chạy nó thông qua phương thức `BertTokenizer.tokenize`. Ban đầu, nó trả về một `tf.RaggedTensor` với các trục `(batch, word, word-piece)`:"
      ]
    },
    {
      "cell_type": "code",
      "metadata": {
        "id": "QnA4CtxUtZkX"
      },
      "source": [
        "# Tokenize the examples -> (batch, word, word-piece)\n",
        "token_batch = en_tokenizer.tokenize(en_examples)\n",
        "# Merge the word and word-piece axes -> (batch, tokens)\n",
        "token_batch = token_batch.merge_dims(-2,-1)\n",
        "\n",
        "for ex in token_batch.to_list():\n",
        "  print(ex)"
      ],
      "execution_count": null,
      "outputs": []
    },
    {
      "cell_type": "markdown",
      "metadata": {
        "id": "hmrhF3r1tbLx"
      },
      "source": [
        "Nếu bạn thay thế các ID token bằng các biểu diễn văn bản của chúng (sử dụng `tf.gather`), bạn có thể thấy rằng trong ví dụ đầu tiên, các từ \"`searchability`\" và \"`serendipity`\" đã được phân tách thành \"`search ##ability`\" và \"`s ##ere ##nd ##ip ##ity`\":"
      ]
    },
    {
      "cell_type": "code",
      "metadata": {
        "id": "OtyHqMLytwtP"
      },
      "source": [
        "# Lookup each token id in the vocabulary.\n",
        "txt_tokens = tf.gather(en_vocab, token_batch)\n",
        "# Join with spaces.\n",
        "tf.strings.reduce_join(txt_tokens, separator=' ', axis=-1)"
      ],
      "execution_count": null,
      "outputs": []
    },
    {
      "cell_type": "markdown",
      "metadata": {
        "id": "SZBCzayJtzZr"
      },
      "source": [
        "Để tập hợp lại các từ từ các token được trích xuất, sử dụng phương thức `BertTokenizer.detokenize`:\n",
        "\n",
        "> Lưu ý: `BertTokenizer.tokenize`/`BertTokenizer.detokenize` không khứ hồi losslessly. Kết quả của `detokenize` sẽ không, nói chung, có cùng một nội dung hoặc các bù đắp như đầu vào để `tokenize`. Điều này là do bước \"token hoá cơ bản\", để tách chuỗi thành các từ trước khi áp dụng `WordpieceTokenizer`, bao gồm các bước không thể đảo ngược như chữ thường và tách theo dấu câu. `WordpieceTokenizer` ở mặt khác **có thể đảo ngược**.\n"
      ]
    },
    {
      "cell_type": "markdown",
      "metadata": {
        "id": "D8u0ev-Lu3jj"
      },
      "source": [
        "## Tùy chỉnh và xuất\n",
        "\n",
        "Hướng dẫn này được xây dựng tokenizer văn bản và detokenizer sử dụng bởi các hướng dẫn [Transformer](https://tensorflow.org/text/tutorials/transformer). Phần này thêm các phương thức và các bước xử lý để đơn giản hóa hướng dẫn, và xuất các tokenizer sử dụng `tf.saved_model` để họ có thể được nhập bởi các hướng dẫn khác."
      ]
    },
    {
      "cell_type": "markdown",
      "metadata": {
        "id": "UDZtHONrvQFS"
      },
      "source": [
        "### Tuỳ chỉnh token hoá\n",
        "\n",
        "Các hướng dẫn dưới đây mong đợi văn bản đã token hoá bao gồm các token `[START]` và `[END]`.\n",
        "\n",
        "Các `reserved_tokens` giữ lại không gian ở phần đầu của từ vựng, vì vậy `[START]` và `[END]` có cùng các chỉ số ho cả hai ngôn ngữ:"
      ]
    },
    {
      "cell_type": "code",
      "metadata": {
        "id": "SqU_d8Pov5Q4"
      },
      "source": [
        "START = tf.argmax(tf.constant(reserved_tokens) == \"[START]\")\n",
        "END = tf.argmax(tf.constant(reserved_tokens) == \"[END]\")\n",
        "\n",
        "def add_start_end(ragged):\n",
        "  count = ragged.bounding_shape()[0]\n",
        "  starts = tf.fill([count,1], START)\n",
        "  ends = tf.fill([count,1], END)\n",
        "  return tf.concat([starts, ragged, ends], axis=1)"
      ],
      "execution_count": null,
      "outputs": []
    },
    {
      "cell_type": "code",
      "metadata": {
        "id": "pBNOTaQBv6F1"
      },
      "source": [
        "words = en_tokenizer.detokenize(add_start_end(token_batch))\n",
        "tf.strings.reduce_join(words, separator=' ', axis=-1)"
      ],
      "execution_count": null,
      "outputs": []
    },
    {
      "cell_type": "markdown",
      "metadata": {
        "id": "wJn-yVpZv77f"
      },
      "source": [
        "### Tuỳ chỉnh detoken hoá\n",
        "\n",
        "Trước khi xuất các `tokenizer`, có một số thứ bạn có thể dọn dẹp cho các hướng dẫn phía dưới:\n",
        "\n",
        "1. Họ muốn tạo đầu ra văn bản sạch, vì vậy thả tokens để dành như `[START]`, `[END]` và `[PAD]`.\n",
        "\n",
        "2. Họ đang quan tâm trong các chuỗi hoàn chỉnh, vì vậy áp dụng một chuỗi nối dọc theo trục `words` của kết quả."
      ]
    },
    {
      "cell_type": "code",
      "metadata": {
        "id": "DwCVzfkFweQp"
      },
      "source": [
        "def cleanup_text(reserved_tokens, token_txt):\n",
        "  # Drop the reserved tokens, except for \"[UNK]\".\n",
        "  bad_tokens = [re.escape(tok) for tok in reserved_tokens if tok != \"[UNK]\"]\n",
        "  bad_token_re = \"|\".join(bad_tokens)\n",
        "    \n",
        "  bad_cells = tf.strings.regex_full_match(token_txt, bad_token_re)\n",
        "  result = tf.ragged.boolean_mask(token_txt, ~bad_cells)\n",
        "\n",
        "  # Join them into strings.\n",
        "  result = tf.strings.reduce_join(result, separator=' ', axis=-1)\n",
        "\n",
        "  return result"
      ],
      "execution_count": null,
      "outputs": []
    },
    {
      "cell_type": "code",
      "metadata": {
        "id": "FZyOPBQQwfkd"
      },
      "source": [
        "en_examples.numpy()"
      ],
      "execution_count": null,
      "outputs": []
    },
    {
      "cell_type": "code",
      "metadata": {
        "id": "JO9qsa1Fwg8J"
      },
      "source": [
        "token_batch = en_tokenizer.tokenize(en_examples).merge_dims(-2,-1)\n",
        "words = en_tokenizer.detokenize(token_batch)\n",
        "words"
      ],
      "execution_count": null,
      "outputs": []
    },
    {
      "cell_type": "code",
      "metadata": {
        "id": "ko20Z9g-wib0"
      },
      "source": [
        "cleanup_text(reserved_tokens, words).numpy()"
      ],
      "execution_count": null,
      "outputs": []
    },
    {
      "cell_type": "markdown",
      "metadata": {
        "id": "Fhubd2cOwky1"
      },
      "source": [
        "### Xuất\n",
        "\n",
        "Khối mã sau xây dựng một lớp `CustomTokenizer` để chứa các thể hiện `text.BertTokenizer`, logic tùy chỉnh, và lớp bọc `@tf.function` cần thiết cho xuất."
      ]
    },
    {
      "cell_type": "code",
      "metadata": {
        "id": "yIyKM5kCw999"
      },
      "source": [
        "class CustomTokenizer(tf.Module):\n",
        "  def __init__(self, reserved_tokens, vocab_path):\n",
        "    self.tokenizer = text.BertTokenizer(vocab_path, lower_case=True)\n",
        "    self._reserved_tokens = reserved_tokens\n",
        "    self._vocab_path = tf.saved_model.Asset(vocab_path)\n",
        "\n",
        "    vocab = pathlib.Path(vocab_path).read_text().splitlines()\n",
        "    self.vocab = tf.Variable(vocab)\n",
        "\n",
        "    ## Create the signatures for export:   \n",
        "\n",
        "    # Include a tokenize signature for a batch of strings. \n",
        "    self.tokenize.get_concrete_function(\n",
        "        tf.TensorSpec(shape=[None], dtype=tf.string))\n",
        "    \n",
        "    # Include `detokenize` and `lookup` signatures for:\n",
        "    #   * `Tensors` with shapes [tokens] and [batch, tokens]\n",
        "    #   * `RaggedTensors` with shape [batch, tokens]\n",
        "    self.detokenize.get_concrete_function(\n",
        "        tf.TensorSpec(shape=[None, None], dtype=tf.int64))\n",
        "    self.detokenize.get_concrete_function(\n",
        "          tf.RaggedTensorSpec(shape=[None, None], dtype=tf.int64))\n",
        "\n",
        "    self.lookup.get_concrete_function(\n",
        "        tf.TensorSpec(shape=[None, None], dtype=tf.int64))\n",
        "    self.lookup.get_concrete_function(\n",
        "          tf.RaggedTensorSpec(shape=[None, None], dtype=tf.int64))\n",
        "\n",
        "    # These `get_*` methods take no arguments\n",
        "    self.get_vocab_size.get_concrete_function()\n",
        "    self.get_vocab_path.get_concrete_function()\n",
        "    self.get_reserved_tokens.get_concrete_function()\n",
        "    \n",
        "  @tf.function\n",
        "  def tokenize(self, strings):\n",
        "    enc = self.tokenizer.tokenize(strings)\n",
        "    # Merge the `word` and `word-piece` axes.\n",
        "    enc = enc.merge_dims(-2,-1)\n",
        "    enc = add_start_end(enc)\n",
        "    return enc\n",
        "\n",
        "  @tf.function\n",
        "  def detokenize(self, tokenized):\n",
        "    words = self.tokenizer.detokenize(tokenized)\n",
        "    return cleanup_text(self._reserved_tokens, words)\n",
        "\n",
        "  @tf.function\n",
        "  def lookup(self, token_ids):\n",
        "    return tf.gather(self.vocab, token_ids)\n",
        "\n",
        "  @tf.function\n",
        "  def get_vocab_size(self):\n",
        "    return tf.shape(self.vocab)[0]\n",
        "\n",
        "  @tf.function\n",
        "  def get_vocab_path(self):\n",
        "    return self._vocab_path\n",
        "\n",
        "  @tf.function\n",
        "  def get_reserved_tokens(self):\n",
        "    return tf.constant(self._reserved_tokens)"
      ],
      "execution_count": null,
      "outputs": []
    },
    {
      "cell_type": "markdown",
      "metadata": {
        "id": "L7oBH5R2w_PU"
      },
      "source": [
        "Xây dựng một `CustomTokenizer` cho mỗi ngôn ngữ:"
      ]
    },
    {
      "cell_type": "code",
      "metadata": {
        "id": "On9nVyCOxBdL"
      },
      "source": [
        "tokenizers = tf.Module()\n",
        "tokenizers.pt = CustomTokenizer(reserved_tokens, 'pt_vocab.txt')\n",
        "tokenizers.en = CustomTokenizer(reserved_tokens, 'en_vocab.txt')"
      ],
      "execution_count": null,
      "outputs": []
    },
    {
      "cell_type": "markdown",
      "metadata": {
        "id": "wtklW4lfxE_N"
      },
      "source": [
        "Xuất các tokenizer dưới dạng `save_model`:"
      ]
    },
    {
      "cell_type": "code",
      "metadata": {
        "id": "OkSSucA0xIEG"
      },
      "source": [
        "model_name = 'ted_hrlr_translate_pt_en_converter'\n",
        "tf.saved_model.save(tokenizers, model_name)"
      ],
      "execution_count": null,
      "outputs": []
    },
    {
      "cell_type": "markdown",
      "metadata": {
        "id": "vQv0QQwOxJTr"
      },
      "source": [
        "Tải lại `saved_model` và kiểm tra các phương thức:"
      ]
    },
    {
      "cell_type": "code",
      "metadata": {
        "id": "t48M_dI-xOsR"
      },
      "source": [
        "reloaded_tokenizers = tf.saved_model.load(model_name)\n",
        "reloaded_tokenizers.en.get_vocab_size().numpy()"
      ],
      "execution_count": null,
      "outputs": []
    },
    {
      "cell_type": "code",
      "metadata": {
        "id": "zVwu0EfXxPoI"
      },
      "source": [
        "tokens = reloaded_tokenizers.en.tokenize(['Hello TensorFlow!'])\n",
        "tokens.numpy()"
      ],
      "execution_count": null,
      "outputs": []
    },
    {
      "cell_type": "code",
      "metadata": {
        "id": "5zc9CogixQrC"
      },
      "source": [
        "text_tokens = reloaded_tokenizers.en.lookup(tokens)\n",
        "text_tokens"
      ],
      "execution_count": null,
      "outputs": []
    },
    {
      "cell_type": "code",
      "metadata": {
        "id": "PVnkakVFxR8y"
      },
      "source": [
        "round_trip = reloaded_tokenizers.en.detokenize(tokens)\n",
        "\n",
        "print(round_trip.numpy()[0].decode('utf-8'))"
      ],
      "execution_count": null,
      "outputs": []
    },
    {
      "cell_type": "markdown",
      "metadata": {
        "id": "c8EtW-7cxTvh"
      },
      "source": [
        "Lưu trữ nó cho [các hướng dẫn dịch](https://tensorflow.org/text/tutorials/transformer):"
      ]
    },
    {
      "cell_type": "code",
      "metadata": {
        "id": "ijBl6-UNxW-H"
      },
      "source": [
        "!zip -r {model_name}.zip {model_name}"
      ],
      "execution_count": null,
      "outputs": []
    },
    {
      "cell_type": "code",
      "metadata": {
        "id": "-rWwV0xqxYLy"
      },
      "source": [
        "!du -h *.zip"
      ],
      "execution_count": null,
      "outputs": []
    },
    {
      "cell_type": "markdown",
      "metadata": {
        "id": "6gHNy3xpxZta"
      },
      "source": [
        "## Tuỳ chọn: Thuật toán\n",
        "\n",
        "Điều đáng chú ý ở đây là có hai phiên bản của thuật toán WordPiece: Dưới-lên và trên-xuống. Trong cả hai trường hợp, mục tiêu là như nhau: \"*Với một kho ngữ liệu đào tạo và một số token D mong muốn, vấn đề tối ưu hóa là chọn các mảnh từ D sao cho kho ngữ liệu thu được là tối thiểu về số lượng mảnh từ chữ khi được phân đoạn theo mô hình mảnh từ đã chọn.*\"\n",
        "\n",
        "Bản gốc [thuật toán WordPiece từ dưới-lên](https://static.googleusercontent.com/media/research.google.com/ja//pubs/archive/37842.pdf), dựa trên [mã hóa cặp byte](https://towardsdatascience.com/byte-pair-encoding-the-dark-horse-of-modern-nlp-eb36c7df4f10) . Giống như BPE, Nó bắt đầu với bảng chữ cái và kết hợp lặp đi lặp lại các bigram thông thường để tạo thành các mảnh từ và từ.\n",
        "\n",
        "Bộ tạo từ vựng của TensorFlow Text theo sau việc thực hiện từ trên-xuống từ [Bert](https://arxiv.org/pdf/1810.04805.pdf). Bắt đầu với các từ và chia nhỏ chúng thành các thành phần nhỏ hơn cho đến khi chúng đạt đến ngưỡng tần suất, hoặc không thể chia nhỏ hơn nữa. Phần tiếp theo mô tả chi tiết điều này. Đối với tiếng Nhật, tiếng Trung và tiếng Hàn, cách tiếp cận từ trên-xuống này không hoạt động vì không có đơn vị từ rõ ràng nào để bắt đầu. Đối với những bạn cần một [cách tiếp cận khác](https://tfhub.dev/google/zh_segmentation/1).\n",
        "\n",
        "(Phần sau dài quá nên lười... 😁)"
      ]
    },
    {
      "cell_type": "markdown",
      "metadata": {
        "id": "mp2QtW1gy6-I"
      },
      "source": [
        "### Choosing the vocabulary\n",
        "\n",
        "The top-down WordPiece generation algorithm takes in a set of (word, count) pairs and a threshold `T`, and returns a vocabulary `V`.\n",
        "\n",
        "The algorithm is iterative. It is run for `k` iterations, where typically `k = 4`, but only the first two are really important. The third and fourth (and beyond) are just identical to the second. Note that each step of the binary search runs the algorithm from scratch for `k` iterations.\n",
        "\n",
        "The iterations described below:"
      ]
    },
    {
      "cell_type": "markdown",
      "metadata": {
        "id": "IXFtLt0by8_1"
      },
      "source": [
        "#### First iteration\n",
        "\n",
        "1.  Iterate over every word and count pair in the input, denoted as `(w, c)`.\n",
        "2.  For each word `w`, generate every substring, denoted as `s`. E.g., for the\n",
        "    word `human`, we generate `{h, hu, hum, huma,\n",
        "    human, ##u, ##um, ##uma, ##uman, ##m, ##ma, ##man, #a, ##an, ##n}`.\n",
        "3.  Maintain a substring-to-count hash map, and increment the count of each `s`\n",
        "    by `c`. E.g., if we have `(human, 113)` and `(humas, 3)` in our input, the\n",
        "    count of `s = huma` will be `113+3=116`.\n",
        "4.  Once we've collected the counts of every substring, iterate over the `(s,\n",
        "    c)` pairs *starting with the longest `s` first*.\n",
        "5.  Keep any `s` that has a `c > T`. E.g., if `T = 100` and we have `(pers,\n",
        "    231); (dogs, 259); (##rint; 76)`, then we would keep `pers` and `dogs`.\n",
        "6.  When an `s` is kept, subtract off its count from all of its prefixes. This\n",
        "    is the reason for sorting all of the `s` by length in step 4. This is a\n",
        "    critical part of the algorithm, because otherwise words would be double\n",
        "    counted. For example, let's say that we've kept `human` and we get to\n",
        "    `(huma, 116)`. We know that `113` of those `116` came from `human`, and `3`\n",
        "    came from `humas`. However, now that `human` is in our vocabulary, we know\n",
        "    we will never segment `human` into `huma ##n`. So once `human` has been\n",
        "    kept, then `huma` only has an *effective* count of `3`.\n",
        "\n",
        "This algorithm will generate a set of word pieces `s` (many of which will be\n",
        "whole words `w`), which we *could* use as our WordPiece vocabulary.\n",
        "\n",
        "However, there is a problem: This algorithm will severely overgenerate word\n",
        "pieces. The reason is that we only subtract off counts of prefix tokens.\n",
        "Therefore, if we keep the word `human`, we will subtract off the count for `h,\n",
        "hu, hu, huma`, but not for `##u, ##um, ##uma, ##uman` and so on. So we might\n",
        "generate both `human` and `##uman` as word pieces, even though `##uman` will\n",
        "never be applied.\n",
        "\n",
        "So why not subtract off the counts for every *substring*, not just every\n",
        "*prefix*? Because then we could end up subtracting off the counts multiple\n",
        "times. Let's say that we're processing `s` of length 5 and we keep both\n",
        "`(##denia, 129)` and `(##eniab, 137)`, where `65` of those counts came from the\n",
        "word `undeniable`. If we subtract off from *every* substring, we would subtract\n",
        "`65` from the substring `##enia` twice, even though we should only subtract\n",
        "once. However, if we only subtract off from prefixes, it will correctly only be\n",
        "subtracted once."
      ]
    },
    {
      "cell_type": "markdown",
      "metadata": {
        "id": "byOuWJrx0gHs"
      },
      "source": [
        "### Applying WordPiece\n",
        "\n",
        "<a id=\"applying_wordpiece\"></a>\n",
        "\n",
        "Once a WordPiece vocabulary has been generated, we need to be able to apply it\n",
        "to new data. The algorithm is a simple greedy longest-match-first application.\n",
        "\n",
        "For example, consider segmenting the word `undeniable`.\n",
        "\n",
        "We first lookup `undeniable` in our WordPiece dictionary, and if it's present,\n",
        "we're done. If not, we decrement the end point by one character, and repeat,\n",
        "e.g., `undeniabl`.\n",
        "\n",
        "Eventually, we will either find a subtoken in our vocabulary, or get down to a\n",
        "single character subtoken. (In general, we assume that every character is in our\n",
        "vocabulary, although this might not be the case for rare Unicode characters. If\n",
        "we encounter a rare Unicode character that's not in the vocabulary we simply map\n",
        "the entire word to `<unk>`).\n",
        "\n",
        "In this case, we find `un` in our vocabulary. So that's our first word piece.\n",
        "Then we jump to the end of `un` and repeat the processing, e.g., try to find\n",
        "`##deniable`, then `##deniabl`, etc. This is repeated until we've segmented the\n",
        "entire word."
      ]
    },
    {
      "cell_type": "markdown",
      "metadata": {
        "id": "aHDTYkDi0jvV"
      },
      "source": [
        "## Optional: tf.lookup\n",
        "\n",
        "<a id=\"tf.lookup\"></a>"
      ]
    },
    {
      "cell_type": "markdown",
      "metadata": {
        "id": "AIOEoXpm0kk-"
      },
      "source": [
        "If you need access to, or more control over the vocabulary it's worth noting that you can build the lookup table yourself and pass that to `BertTokenizer`.\n",
        "\n",
        "When you pass a string, `BertTokenizer` does the following:"
      ]
    },
    {
      "cell_type": "code",
      "metadata": {
        "id": "05TLvUmD0m_x"
      },
      "source": [
        "pt_lookup = tf.lookup.StaticVocabularyTable(\n",
        "    num_oov_buckets=1,\n",
        "    initializer=tf.lookup.TextFileInitializer(\n",
        "        filename='pt_vocab.txt',\n",
        "        key_dtype=tf.string,\n",
        "        key_index = tf.lookup.TextFileIndex.WHOLE_LINE,\n",
        "        value_dtype = tf.int64,\n",
        "        value_index=tf.lookup.TextFileIndex.LINE_NUMBER)) \n",
        "pt_tokenizer = text.BertTokenizer(pt_lookup)"
      ],
      "execution_count": null,
      "outputs": []
    },
    {
      "cell_type": "markdown",
      "metadata": {
        "id": "Ir-eeDMA0pSH"
      },
      "source": [
        "Now you have direct access to the lookup table used in the tokenizer."
      ]
    },
    {
      "cell_type": "code",
      "metadata": {
        "id": "Y_HNkH_L0rBX"
      },
      "source": [
        "pt_lookup.lookup(tf.constant(['é', 'um', 'uma', 'para', 'não']))"
      ],
      "execution_count": null,
      "outputs": []
    },
    {
      "cell_type": "markdown",
      "metadata": {
        "id": "_aERcCr60tdI"
      },
      "source": [
        "You don't need to use a vocabulary file, `tf.lookup` has other initializer options. If you have the vocabulary in memory you can use `lookup.KeyValueTensorInitializer`:"
      ]
    },
    {
      "cell_type": "code",
      "metadata": {
        "id": "KjJtBYLp0uiM"
      },
      "source": [
        "pt_lookup = tf.lookup.StaticVocabularyTable(\n",
        "    num_oov_buckets=1,\n",
        "    initializer=tf.lookup.KeyValueTensorInitializer(\n",
        "        keys=pt_vocab,\n",
        "        values=tf.range(len(pt_vocab), dtype=tf.int64))) \n",
        "pt_tokenizer = text.BertTokenizer(pt_lookup)"
      ],
      "execution_count": null,
      "outputs": []
    }
  ]
}