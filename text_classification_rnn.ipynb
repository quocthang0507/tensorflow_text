{
  "nbformat": 4,
  "nbformat_minor": 0,
  "metadata": {
    "colab": {
      "name": "text_classification_rnn",
      "provenance": [],
      "collapsed_sections": [],
      "authorship_tag": "ABX9TyNsnWKnpSJ3Kt6vsHeD9xvO",
      "include_colab_link": true
    },
    "kernelspec": {
      "name": "python3",
      "display_name": "Python 3"
    },
    "language_info": {
      "name": "python"
    }
  },
  "cells": [
    {
      "cell_type": "markdown",
      "metadata": {
        "id": "view-in-github",
        "colab_type": "text"
      },
      "source": [
        "<a href=\"https://colab.research.google.com/github/quocthang0507/tensorflow_text/blob/main/text_classification_rnn.ipynb\" target=\"_parent\"><img src=\"https://colab.research.google.com/assets/colab-badge.svg\" alt=\"Open In Colab\"/></a>"
      ]
    },
    {
      "cell_type": "markdown",
      "metadata": {
        "id": "NJcjVuERW3Zf"
      },
      "source": [
        "Copyright 2018 The TensorFlow Hub Authors.\n",
        "\n",
        "```\n",
        "@title Licensed under the Apache License, Version 2.0 (the \"License\"); you may not use this file except in compliance with the License.\n",
        "You may obtain a copy of the License at\n",
        "https://www.apache.org/licenses/LICENSE-2.0\n",
        "Unless required by applicable law or agreed to in writing, software distributed under the License is distributed on an \"AS IS\" BASIS, WITHOUT WARRANTIES OR CONDITIONS OF ANY KIND, either express or implied. See the License for the specific language governing permissions and limitations under the License.\n",
        "```"
      ]
    },
    {
      "cell_type": "markdown",
      "metadata": {
        "id": "jSWhc4ZZXEi1"
      },
      "source": [
        "# Phân loại văn bản với RNN\n",
        "\n",
        "Hướng dẫn phân loại văn bản này huấn luyện một [mạng thần kinh hồi quy](https://developers.google.com/machine-learning/glossary/#recurrent_neural_network) trên [tập dữ liệu lớn đánh giá phim IMDB](http://ai.stanford.edu/~amaas/data/sentiment/) để phân tích cảm xúc."
      ]
    },
    {
      "cell_type": "markdown",
      "metadata": {
        "id": "Us5lT3bIXAbv"
      },
      "source": [
        "## Cài đặt"
      ]
    },
    {
      "cell_type": "code",
      "metadata": {
        "id": "F4s8KHFIXC74"
      },
      "source": [
        "import numpy as np\n",
        "\n",
        "import tensorflow_datasets as tfds\n",
        "import tensorflow as tf\n",
        "\n",
        "tfds.disable_progress_bar()"
      ],
      "execution_count": null,
      "outputs": []
    },
    {
      "cell_type": "markdown",
      "metadata": {
        "id": "Oy4p8VISXHKN"
      },
      "source": [
        "Nhập `matplotlib` và tạo một hàm trợ giúp để vẽ đồ thị:\n",
        "\n"
      ]
    },
    {
      "cell_type": "code",
      "metadata": {
        "id": "OTqqXeE7XI7l"
      },
      "source": [
        "import matplotlib.pyplot as plt\n",
        "\n",
        "\n",
        "def plot_graphs(history, metric):\n",
        "  plt.plot(history.history[metric])\n",
        "  plt.plot(history.history['val_'+metric], '')\n",
        "  plt.xlabel(\"Epochs\")\n",
        "  plt.ylabel(metric)\n",
        "  plt.legend([metric, 'val_'+metric])"
      ],
      "execution_count": null,
      "outputs": []
    },
    {
      "cell_type": "markdown",
      "metadata": {
        "id": "Vr1VuxvsXKts"
      },
      "source": [
        "## Thiết lập đường tin đầu vào\n",
        "\n",
        "Tập dữ liệu lớn đánh giá phim IMDB là tập dữ liệu *phân loại nhị phân* — tất cả các bài đánh giá đều có ý nghĩa *tích cực* hoặc *tiêu cực*.\n",
        "\n",
        "Tải về tập dữ liệu bằng [TFDS](https://www.tensorflow.org/datasets). Xem [hướng dẫn tải văn bản](https://www.tensorflow.org/tutorials/load_data/text) để biết chi tiết về cách tải dữ liệu này theo cách thủ công."
      ]
    },
    {
      "cell_type": "code",
      "metadata": {
        "id": "p6jnAFzcXOXe"
      },
      "source": [
        "dataset, info = tfds.load('imdb_reviews', with_info=True,\n",
        "                          as_supervised=True)\n",
        "train_dataset, test_dataset = dataset['train'], dataset['test']\n",
        "\n",
        "train_dataset.element_spec"
      ],
      "execution_count": null,
      "outputs": []
    },
    {
      "cell_type": "markdown",
      "metadata": {
        "id": "5as76OioXP1w"
      },
      "source": [
        "Ban đầu, điều này trả về một tập dữ liệu của `(text, label pairs)`:"
      ]
    },
    {
      "cell_type": "code",
      "metadata": {
        "id": "4BSPwkxlXRSw"
      },
      "source": [
        "for example, label in train_dataset.take(1):\n",
        "  print('text: ', example.numpy())\n",
        "  print('label: ', label.numpy())"
      ],
      "execution_count": null,
      "outputs": []
    },
    {
      "cell_type": "markdown",
      "metadata": {
        "id": "XRxNYT7HXTIB"
      },
      "source": [
        "Tiếp theo xáo trộn dữ liệu huấn luyện và tạo các lô của các cặp `(text, label)`:"
      ]
    },
    {
      "cell_type": "code",
      "metadata": {
        "id": "wtKTSyyLXVEX"
      },
      "source": [
        "BUFFER_SIZE = 10000\n",
        "BATCH_SIZE = 64"
      ],
      "execution_count": null,
      "outputs": []
    },
    {
      "cell_type": "code",
      "metadata": {
        "id": "wLGm8aLMXYwg"
      },
      "source": [
        "train_dataset = train_dataset.shuffle(BUFFER_SIZE).batch(BATCH_SIZE).prefetch(tf.data.AUTOTUNE)\n",
        "test_dataset = test_dataset.batch(BATCH_SIZE).prefetch(tf.data.AUTOTUNE)"
      ],
      "execution_count": null,
      "outputs": []
    },
    {
      "cell_type": "code",
      "metadata": {
        "id": "tJ6IGVXsXZ-2"
      },
      "source": [
        "for example, label in train_dataset.take(1):\n",
        "  print('texts: ', example.numpy()[:3])\n",
        "  print()\n",
        "  print('labels: ', label.numpy()[:3])"
      ],
      "execution_count": null,
      "outputs": []
    },
    {
      "cell_type": "markdown",
      "metadata": {
        "id": "MfJ6zAPUXa8v"
      },
      "source": [
        "## Tạo bộ mã hóa văn bản\n",
        "\n",
        "Văn bản thô được tải bởi `tfds` cần phải được xử lý trước khi nó có thể được sử dụng trong một mô hình. Cách đơn giản nhất để xử lý văn bản cho huấn luyện là sử dụng lớp `experimental.preprocessing.TextVectorization`. Lớp này có nhiều khả năng, nhưng hướng dẫn này chọn hành vi mặc định.\n",
        "\n",
        "Tạo lớp và truyền văn bản của tập dữ liệu vào phương thức `.adapt` của lớp:"
      ]
    },
    {
      "cell_type": "code",
      "metadata": {
        "id": "1fOmuqFNXfHA"
      },
      "source": [
        "VOCAB_SIZE = 1000\n",
        "encoder = tf.keras.layers.experimental.preprocessing.TextVectorization(\n",
        "    max_tokens=VOCAB_SIZE)\n",
        "encoder.adapt(train_dataset.map(lambda text, label: text))"
      ],
      "execution_count": null,
      "outputs": []
    },
    {
      "cell_type": "markdown",
      "metadata": {
        "id": "r2Ud9YD-Xern"
      },
      "source": [
        "Phương thức `.adapt` đặt từ vựng của lớp. Đây là 20 token đầu tiên. Sau phần đệm và các token không xác định, chúng được sắp xếp theo tần suất:"
      ]
    },
    {
      "cell_type": "code",
      "metadata": {
        "id": "iCflmH4gXhc0"
      },
      "source": [
        "vocab = np.array(encoder.get_vocabulary())\n",
        "vocab[:20]"
      ],
      "execution_count": null,
      "outputs": []
    },
    {
      "cell_type": "markdown",
      "metadata": {
        "id": "mQnpghLLXi1v"
      },
      "source": [
        "Sau khi từ vựng được thiết lập, lớp có thể mã hóa văn bản thành các chỉ mục. Các tensor của chỉ số được đệm-0 vào chuỗi dài nhất trong lô (trừ khi bạn đặt `output_sequence_length` cố định):"
      ]
    },
    {
      "cell_type": "code",
      "metadata": {
        "id": "QrwEXup6Xj0l"
      },
      "source": [
        "encoded_example = encoder(example)[:3].numpy()\n",
        "encoded_example"
      ],
      "execution_count": null,
      "outputs": []
    },
    {
      "cell_type": "markdown",
      "metadata": {
        "id": "PpqITA3cXkoF"
      },
      "source": [
        "Với cài đặt mặc định, quá trình này không thể hoàn toàn đảo ngược. Có ba lý do chính cho điều đó:\n",
        "\n",
        "1. Giá trị mặc định cho `preprocessing.TextVectorization`'s đối số `standardize` là `\"lower_and_strip_punctuation\"`.\n",
        "\n",
        "2. Kích thước từ vựng hạn chế và thiếu dự phòng dựa trên ký tự dẫn đến một số token không xác định."
      ]
    },
    {
      "cell_type": "code",
      "metadata": {
        "id": "aL05qE4DXmvz"
      },
      "source": [
        "for n in range(3):\n",
        "  print(\"Original: \", example[n].numpy())\n",
        "  print(\"Round-trip: \", \" \".join(vocab[encoded_example[n]]))\n",
        "  print()"
      ],
      "execution_count": null,
      "outputs": []
    },
    {
      "cell_type": "markdown",
      "metadata": {
        "id": "_j6pd7mEXnj4"
      },
      "source": [
        "## Tạo mô hình\n",
        "\n",
        "![bidirectional](img/bidirectional.png)\n",
        "\n",
        "Trên đây là sơ đồ của mô hình.\n",
        "\n",
        "1. Mô hình này có thể được xây dựng dưới dạng `tf.keras.Sequential`.\n",
        "\n",
        "2. Lớp đầu tiên là `encoder` chuyển đổi văn bản thành một chuỗi các chỉ số token.\n",
        "\n",
        "3. Sau bộ mã hóa là một lớp nhúng. Một lớp nhúng lưu trữ một vectơ trên mỗi từ. Khi được gọi, nó sẽ chuyển chuỗi các chỉ số từ thành chuỗi các vectơ. Các vectơ này có thể huấn luyện được. Sau khi huấn luyện (trên đủ dữ liệu), các từ có nghĩa tương tự thường có các vectơ tương tự.\n",
        "\n",
        " Tra cứu chỉ mục này hiệu quả hơn nhiều so với hoạt động tương đương của việc truyền một vectơ được mã hóa thông qua một lớp `tf.keras.layers.Dense`.\n",
        "\n",
        "4. Mạng thần kinh đệ quy (RNN) xử lý chuỗi đầu vào bằng cách lặp đi lặp lại các phần tử. Các RNN chuyển các kết quả đầu ra từ bước này sang đầu vào của chúng ở bước thời gian tiếp theo.\n",
        "\n",
        " Trình bao bọc `tf.keras.layers.Bidirectional` cũng có thể được sử dụng với một lớp RNN. Điều này truyền đầu vào chuyển tiếp và ngược qua lớp RNN và sau đó nối đầu ra cuối cùng.\n",
        "\n",
        " * Ưu điểm chính của RNN hai chiều là tín hiệu từ bắt đầu của đầu vào không cần phải được xử lý toàn bộ qua mỗi bước thời gian để ảnh hưởng đến đầu ra.\n",
        "\n",
        " * Nhược điểm chính của RNN hai chiều là bạn không thể truyền các dự đoán một cách hiệu quả vì các từ đang được thêm vào cuối.\n",
        "\n",
        "5. Sau khi RNN đã chuyển đổi chuỗi thành một vectơ duy nhất, hai `layers.Dense` sẽ thực hiện một số xử lý cuối cùng và chuyển đổi từ biểu diễn vectơ này thành một logit duy nhất làm đầu ra phân loại.\n",
        "\n",
        "Mã để thực hiện điều này là bên dưới:"
      ]
    },
    {
      "cell_type": "code",
      "metadata": {
        "id": "1EjLGT9iXu4S"
      },
      "source": [
        "model = tf.keras.Sequential([\n",
        "    encoder,\n",
        "    tf.keras.layers.Embedding(\n",
        "        input_dim=len(encoder.get_vocabulary()),\n",
        "        output_dim=64,\n",
        "        # Use masking to handle the variable sequence lengths\n",
        "        mask_zero=True),\n",
        "    tf.keras.layers.Bidirectional(tf.keras.layers.LSTM(64)),\n",
        "    tf.keras.layers.Dense(64, activation='relu'),\n",
        "    tf.keras.layers.Dense(1)\n",
        "])"
      ],
      "execution_count": null,
      "outputs": []
    },
    {
      "cell_type": "markdown",
      "metadata": {
        "id": "RIZYW9nGXxCI"
      },
      "source": [
        "Xin lưu ý rằng mô hình tuần tự Keras được sử dụng ở đây vì tất cả các lớp trong mô hình chỉ có đầu vào duy nhất và tạo ra đầu ra duy nhất. Trong trường hợp bạn muốn sử dụng lớp RNN trạng thái, bạn có thể muốn xây dựng mô hình của mình với API chức năng Keras hoặc lớp con mô hình để bạn có thể truy xuất và sử dụng lại các trạng thái của lớp RNN. Vui lòng kiểm tra [hướng dẫn Keras RNN](https://www.tensorflow.org/guide/keras/rnn#rnn_state_reuse) để biết thêm chi tiết.\n",
        "\n",
        "Lớp nhúng [sử dụng mặt nạ](https://www.tensorflow.org/guide/keras/masking_and_padding) để xử lý các độ dài chuỗi khác nhau. Tất cả các lớp sau khi tạo mặt nạ hỗ trợ `Embedding`:"
      ]
    },
    {
      "cell_type": "code",
      "metadata": {
        "id": "d6hqtDbiXycD"
      },
      "source": [
        "print([layer.supports_masking for layer in model.layers])"
      ],
      "execution_count": null,
      "outputs": []
    },
    {
      "cell_type": "markdown",
      "metadata": {
        "id": "xGbOU3nFXz_7"
      },
      "source": [
        "Để xác nhận rằng điều này hoạt động như mong đợi, hãy đánh giá một câu hai lần. Đầu tiên, một mình vì vậy không có phần đệm để che giấu:"
      ]
    },
    {
      "cell_type": "code",
      "metadata": {
        "id": "vExJDOFrX1Ic"
      },
      "source": [
        "# predict on a sample text without padding.\n",
        "\n",
        "sample_text = ('The movie was cool. The animation and the graphics '\n",
        "               'were out of this world. I would recommend this movie.')\n",
        "predictions = model.predict(np.array([sample_text]))\n",
        "print(predictions[0])"
      ],
      "execution_count": null,
      "outputs": []
    },
    {
      "cell_type": "markdown",
      "metadata": {
        "id": "Z_yqQIRTX2F9"
      },
      "source": [
        "Bây giờ, hãy đánh giá lại nó trong một lô với một câu dài hơn. Kết quả phải giống hệt nhau:"
      ]
    },
    {
      "cell_type": "code",
      "metadata": {
        "id": "tXsfcOSeX39O"
      },
      "source": [
        "# predict on a sample text with padding\n",
        "\n",
        "padding = \"the \" * 2000\n",
        "predictions = model.predict(np.array([sample_text, padding]))\n",
        "print(predictions[0])"
      ],
      "execution_count": null,
      "outputs": []
    },
    {
      "cell_type": "markdown",
      "metadata": {
        "id": "KrDIMn5RX5P8"
      },
      "source": [
        "Biên dịch mô hình Keras để định cấu hình quá trình huấn luyện:"
      ]
    },
    {
      "cell_type": "code",
      "metadata": {
        "id": "XHqYeH6DX6CL"
      },
      "source": [
        "model.compile(loss=tf.keras.losses.BinaryCrossentropy(from_logits=True),\n",
        "              optimizer=tf.keras.optimizers.Adam(1e-4),\n",
        "              metrics=['accuracy'])"
      ],
      "execution_count": null,
      "outputs": []
    },
    {
      "cell_type": "markdown",
      "metadata": {
        "id": "J4dQkeB1X7mO"
      },
      "source": [
        "## Huấn luyện mô hình"
      ]
    },
    {
      "cell_type": "code",
      "metadata": {
        "id": "pbQCgAYRX93d"
      },
      "source": [
        "history = model.fit(train_dataset, epochs=10,\n",
        "                    validation_data=test_dataset,\n",
        "                    validation_steps=30)"
      ],
      "execution_count": null,
      "outputs": []
    },
    {
      "cell_type": "code",
      "metadata": {
        "id": "YdeSBgQRX-_J"
      },
      "source": [
        "test_loss, test_acc = model.evaluate(test_dataset)\n",
        "\n",
        "print('Test Loss:', test_loss)\n",
        "print('Test Accuracy:', test_acc)"
      ],
      "execution_count": null,
      "outputs": []
    },
    {
      "cell_type": "code",
      "metadata": {
        "id": "DQOzPovwYAGP"
      },
      "source": [
        "plt.figure(figsize=(16, 8))\n",
        "plt.subplot(1, 2, 1)\n",
        "plot_graphs(history, 'accuracy')\n",
        "plt.ylim(None, 1)\n",
        "plt.subplot(1, 2, 2)\n",
        "plot_graphs(history, 'loss')\n",
        "plt.ylim(0, None)"
      ],
      "execution_count": null,
      "outputs": []
    },
    {
      "cell_type": "markdown",
      "metadata": {
        "id": "2cu4pQVXYBDV"
      },
      "source": [
        "Chạy dự đoán cho một câu mới:\n",
        "\n",
        "Nếu dự đoán là `>= 0.0`, nó là tích cực, còn nó là tiêu cực."
      ]
    },
    {
      "cell_type": "code",
      "metadata": {
        "id": "rDAOuHvOYC3I"
      },
      "source": [
        "sample_text = ('The movie was cool. The animation and the graphics '\n",
        "               'were out of this world. I would recommend this movie.')\n",
        "predictions = model.predict(np.array([sample_text]))"
      ],
      "execution_count": null,
      "outputs": []
    },
    {
      "cell_type": "markdown",
      "metadata": {
        "id": "8hPqB4WMYDoL"
      },
      "source": [
        "## Xếp chồng hai hoặc nhiều lớp LSTM\n",
        "\n",
        "Các lớp đệ quy của Keras có hai chế độ khả dụng được điều khiển bởi đối số phương thức `return_sequences`:\n",
        "\n",
        "Nếu `False` nó chỉ trả về đầu ra cuối cùng cho mỗi chuỗi đầu vào (hình dạng tensor 2D `(batch_size, output_features)`). Đây là mặc định được sử dụng trong mô hình trước đó.\n",
        "\n",
        "Nếu `True`, chuỗi đầy đủ của các đầu ra liên tiếp cho mỗi bước thời gian sẽ được trả về (một hình dạng 3D `(batch_size, timesteps, output_features)`).\n",
        "\n",
        "Đây là luồng thông tin trông như thế nào với `return_sequences=True`:"
      ]
    },
    {
      "cell_type": "markdown",
      "metadata": {
        "id": "iTf4JMkoYHnb"
      },
      "source": [
        "![layered_bidirectional](img/layered_bidirectional.png)\n",
        "\n",
        "Điều thú vị khi sử dụng RNN với `return_sequences=True` là đầu ra vẫn có 3 trục, giống như đầu vào, vì vậy nó có thể được chuyển sang một lớp RNN khác, như thế này:"
      ]
    },
    {
      "cell_type": "code",
      "metadata": {
        "id": "vDmwR3ccYI_N"
      },
      "source": [
        "model = tf.keras.Sequential([\n",
        "    encoder,\n",
        "    tf.keras.layers.Embedding(len(encoder.get_vocabulary()), 64, mask_zero=True),\n",
        "    tf.keras.layers.Bidirectional(tf.keras.layers.LSTM(64,  return_sequences=True)),\n",
        "    tf.keras.layers.Bidirectional(tf.keras.layers.LSTM(32)),\n",
        "    tf.keras.layers.Dense(64, activation='relu'),\n",
        "    tf.keras.layers.Dropout(0.5),\n",
        "    tf.keras.layers.Dense(1)\n",
        "])"
      ],
      "execution_count": null,
      "outputs": []
    },
    {
      "cell_type": "code",
      "metadata": {
        "id": "hzfmkOSOYKjc"
      },
      "source": [
        "model.compile(loss=tf.keras.losses.BinaryCrossentropy(from_logits=True),\n",
        "              optimizer=tf.keras.optimizers.Adam(1e-4),\n",
        "              metrics=['accuracy'])"
      ],
      "execution_count": null,
      "outputs": []
    },
    {
      "cell_type": "code",
      "metadata": {
        "id": "lc-e2xG5YLvi"
      },
      "source": [
        "history = model.fit(train_dataset, epochs=10,\n",
        "                    validation_data=test_dataset,\n",
        "                    validation_steps=30)"
      ],
      "execution_count": null,
      "outputs": []
    },
    {
      "cell_type": "code",
      "metadata": {
        "id": "b6HgF-GrYNcL"
      },
      "source": [
        "test_loss, test_acc = model.evaluate(test_dataset)\n",
        "\n",
        "print('Test Loss:', test_loss)\n",
        "print('Test Accuracy:', test_acc)"
      ],
      "execution_count": null,
      "outputs": []
    },
    {
      "cell_type": "code",
      "metadata": {
        "id": "O52bvYTqYOwd"
      },
      "source": [
        "# predict on a sample text without padding.\n",
        "\n",
        "sample_text = ('The movie was not good. The animation and the graphics '\n",
        "               'were terrible. I would not recommend this movie.')\n",
        "predictions = model.predict(np.array([sample_text]))\n",
        "print(predictions)"
      ],
      "execution_count": null,
      "outputs": []
    },
    {
      "cell_type": "code",
      "metadata": {
        "id": "fkK6aeNHYP6P"
      },
      "source": [
        "plt.figure(figsize=(16, 6))\n",
        "plt.subplot(1, 2, 1)\n",
        "plot_graphs(history, 'accuracy')\n",
        "plt.subplot(1, 2, 2)\n",
        "plot_graphs(history, 'loss')"
      ],
      "execution_count": null,
      "outputs": []
    },
    {
      "cell_type": "markdown",
      "metadata": {
        "id": "Cn_vVksMYR9k"
      },
      "source": [
        "Kiểm tra các lớp lặp lại hiện có khác chẳng hạn như [các lớp GRU](https://www.tensorflow.org/api_docs/python/tf/keras/layers/GRU).\n",
        "\n",
        "Nếu bạn đang quan tâm đến việc xây dựng các RNN tùy chỉnh, hãy xem [Hướng dẫn Keras RNN](https://www.tensorflow.org/guide/keras/rnn)."
      ]
    }
  ]
}