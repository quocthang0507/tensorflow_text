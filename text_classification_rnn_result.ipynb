{
  "nbformat": 4,
  "nbformat_minor": 0,
  "metadata": {
    "colab": {
      "name": "text_classification_rnn_result",
      "provenance": [],
      "collapsed_sections": [],
      "mount_file_id": "11VD7gQFBPvWviNgFY9AroDj_ZfzV9Cim",
      "authorship_tag": "ABX9TyOqL3ajYqZ9PgEf87rmqjbx",
      "include_colab_link": true
    },
    "kernelspec": {
      "name": "python3",
      "display_name": "Python 3"
    },
    "language_info": {
      "name": "python"
    }
  },
  "cells": [
    {
      "cell_type": "markdown",
      "metadata": {
        "id": "view-in-github",
        "colab_type": "text"
      },
      "source": [
        "<a href=\"https://colab.research.google.com/github/quocthang0507/tensorflow_text/blob/main/text_classification_rnn_result.ipynb\" target=\"_parent\"><img src=\"https://colab.research.google.com/assets/colab-badge.svg\" alt=\"Open In Colab\"/></a>"
      ]
    },
    {
      "cell_type": "markdown",
      "metadata": {
        "id": "q4Qj3eMEIjXi"
      },
      "source": [
        "# Setup"
      ]
    },
    {
      "cell_type": "code",
      "metadata": {
        "id": "KxYXUKuzIQuS"
      },
      "source": [
        "import numpy as np\n",
        "\n",
        "import tensorflow_datasets as tfds\n",
        "import tensorflow as tf\n",
        "\n",
        "tfds.disable_progress_bar()"
      ],
      "execution_count": null,
      "outputs": []
    },
    {
      "cell_type": "code",
      "metadata": {
        "id": "V6th5bnwIqTm"
      },
      "source": [
        "import matplotlib.pyplot as plt\n",
        "\n",
        "\n",
        "def plot_graphs(history, metric):\n",
        "  plt.plot(history.history[metric])\n",
        "  plt.plot(history.history['val_'+metric], '')\n",
        "  plt.xlabel(\"Epochs\")\n",
        "  plt.ylabel(metric)\n",
        "  plt.legend([metric, 'val_'+metric])"
      ],
      "execution_count": null,
      "outputs": []
    },
    {
      "cell_type": "markdown",
      "metadata": {
        "id": "TgtB-JmPIsPD"
      },
      "source": [
        "# Setup input pipeline"
      ]
    },
    {
      "cell_type": "code",
      "metadata": {
        "colab": {
          "base_uri": "https://localhost:8080/"
        },
        "id": "i_oorr54IuRX",
        "outputId": "ea4b59be-49e7-4558-fdc4-b188f213192a"
      },
      "source": [
        "dataset, info = tfds.load('imdb_reviews', with_info=True,\n",
        "                          as_supervised=True)\n",
        "train_dataset, test_dataset = dataset['train'], dataset['test']\n",
        "\n",
        "train_dataset.element_spec"
      ],
      "execution_count": null,
      "outputs": [
        {
          "output_type": "stream",
          "text": [
            "\u001b[1mDownloading and preparing dataset imdb_reviews/plain_text/1.0.0 (download: 80.23 MiB, generated: Unknown size, total: 80.23 MiB) to /root/tensorflow_datasets/imdb_reviews/plain_text/1.0.0...\u001b[0m\n",
            "Shuffling and writing examples to /root/tensorflow_datasets/imdb_reviews/plain_text/1.0.0.incompleteGL6YU5/imdb_reviews-train.tfrecord\n",
            "Shuffling and writing examples to /root/tensorflow_datasets/imdb_reviews/plain_text/1.0.0.incompleteGL6YU5/imdb_reviews-test.tfrecord\n",
            "Shuffling and writing examples to /root/tensorflow_datasets/imdb_reviews/plain_text/1.0.0.incompleteGL6YU5/imdb_reviews-unsupervised.tfrecord\n"
          ],
          "name": "stdout"
        },
        {
          "output_type": "stream",
          "text": [
            "WARNING:absl:Dataset is using deprecated text encoder API which will be removed soon. Please use the plain_text version of the dataset and migrate to `tensorflow_text`.\n"
          ],
          "name": "stderr"
        },
        {
          "output_type": "stream",
          "text": [
            "\u001b[1mDataset imdb_reviews downloaded and prepared to /root/tensorflow_datasets/imdb_reviews/plain_text/1.0.0. Subsequent calls will reuse this data.\u001b[0m\n"
          ],
          "name": "stdout"
        },
        {
          "output_type": "execute_result",
          "data": {
            "text/plain": [
              "(TensorSpec(shape=(), dtype=tf.string, name=None),\n",
              " TensorSpec(shape=(), dtype=tf.int64, name=None))"
            ]
          },
          "metadata": {},
          "execution_count": 4
        }
      ]
    },
    {
      "cell_type": "code",
      "metadata": {
        "colab": {
          "base_uri": "https://localhost:8080/"
        },
        "id": "obeG0xJRI5qQ",
        "outputId": "90d6be15-e793-4813-d020-d90ce7168e81"
      },
      "source": [
        "for example, label in train_dataset.take(1):\n",
        "  print('text: ', example.numpy())\n",
        "  print('label: ', label.numpy())"
      ],
      "execution_count": null,
      "outputs": [
        {
          "output_type": "stream",
          "text": [
            "text:  b\"This was an absolutely terrible movie. Don't be lured in by Christopher Walken or Michael Ironside. Both are great actors, but this must simply be their worst role in history. Even their great acting could not redeem this movie's ridiculous storyline. This movie is an early nineties US propaganda piece. The most pathetic scenes were those when the Columbian rebels were making their cases for revolutions. Maria Conchita Alonso appeared phony, and her pseudo-love affair with Walken was nothing but a pathetic emotional plug in a movie that was devoid of any real meaning. I am disappointed that there are movies like this, ruining actor's like Christopher Walken's good name. I could barely sit through it.\"\n",
            "label:  0\n"
          ],
          "name": "stdout"
        }
      ]
    },
    {
      "cell_type": "code",
      "metadata": {
        "id": "OGPDymTaI7N4"
      },
      "source": [
        "BUFFER_SIZE = 10000\n",
        "BATCH_SIZE = 64"
      ],
      "execution_count": null,
      "outputs": []
    },
    {
      "cell_type": "code",
      "metadata": {
        "id": "UMeEbc0pI8W6"
      },
      "source": [
        "train_dataset = train_dataset.shuffle(BUFFER_SIZE).batch(BATCH_SIZE).prefetch(tf.data.AUTOTUNE)\n",
        "test_dataset = test_dataset.batch(BATCH_SIZE).prefetch(tf.data.AUTOTUNE)"
      ],
      "execution_count": null,
      "outputs": []
    },
    {
      "cell_type": "code",
      "metadata": {
        "colab": {
          "base_uri": "https://localhost:8080/"
        },
        "id": "xp7HFnI9I9Ng",
        "outputId": "cfb2c192-924b-431d-fafb-2971dabab1bd"
      },
      "source": [
        "for example, label in train_dataset.take(1):\n",
        "  print('texts: ', example.numpy()[:3])\n",
        "  print()\n",
        "  print('labels: ', label.numpy()[:3])"
      ],
      "execution_count": null,
      "outputs": [
        {
          "output_type": "stream",
          "text": [
            "texts:  [b'There are some films that every Horror fan owes himself (or herself) to see, and Emilio Miraglia\\'s \"La Dama Rossa Uccide Sette Volte\" aka. \"The Red Queen Kills Seven Times\" (1972) is definitely one of them. With Gialli and Gothic Tales being my two favorite sub-genres in Horror, I was looking forward to seeing this film for quite a while, and even though my expectations were high, this masterpiece surpassed my greatest hopes. Miraglia\\'s earlier Giallo, \"The Night Evelyn Came Out of the Grave\" (1971) was already a creepy and highly atmospheric film which successfully mixed Giallo with Gothic Horror, but it couldn\\'t possibly compare to this instant personal favorite. \"The Red Queen Kills Seven Times\" is, hands down, one of the most unique and overwhelming Italian Horror films ever made, and no lover of the genre could possibly consider missing it. An incredibly mesmerizing Giallo with strong Gothic elements, \"The Red Queen\" delivers everything one could hope for in either sub-genre: An inventive and incredibly compelling plot, spine-chilling suspense, a sublimely uncanny setting and a genuinely creepy atmosphere, eerily lush colors, stylish murders, a brilliant score, and, not least, a ravishing female cast lead by the stunningly beautiful Barbara Bouchet - this film simply is one of the most outstanding combinations of elegant beauty and pure terror.<br /><br />The film starts out incredibly in a beautiful Gothic castle in Germany. As little girls, Kitty Wildenbr\\xc3\\xbcck and her sister Evelyn have been fighting when their grandfather tells them the story behind an incredibly uncanny painting: Legend has it that a fiendish Red Lady is to return to the castle every hundred years and kill seven people. Fourteen years later, Kitty (Barbara Bouchet) has become a successful fashion photographer. Suddenly, people begin to get murdered... Director Miraglia had already proved his incredible talent for style, atmosphere and colorful creepiness with \"The Night Evelyn Came Out of the Grave\" and he makes use of these elements even far more effectively in this gem. \"The Red Queen Kills Seven Times\" is a feast for the eyes indeed, and one of the most overwhelming Italian Horror films both visually and plot-wise. The haunting painting in the Grandfather\\'s castle alone is capable of giving the viewer the goosebumps. The Red Lady (or Red Queen, as she is called in the English title) is arguably the most fiendish figure ever in a Giallo, the spine-chilling laughter that the murders are accompanied by would even be frightening on its own. <br /><br />A sexy female cast is always appreciated, especially in a Giallo, and this one is a prime example for that. The ravishing Barbara Bouchet (one of my favorite actresses) must be one of the most stunningly beautiful ladies ever to appear on screen, and she is a great actress too. Bouchet\\'s presence has graded up many Italian flicks, among other appearances she starred in three of the greatest Cult-masterpieces of Italian 70s cinema within one year (1972): Fernando Di Leo\\'s \"Milano Calibro 9\", Lucio Fulci\\'s Giallo-highlight \"Don\\'t Torture a Duckling\" and this unforgettable gem. Apart from the wonderful Miss Bouchet, the film\\'s gorgeous female cast includes sexy young Sybil Danning, Marina Malfatti (\"The Night Evelyn Came Out of the Grave\"), and other beauties who are not afraid to bare it for the camera. <br /><br />As the whole film, the murders are stylish and extremely elegant, yet frightening and macabre, and some of them are quite gory. Bruno Nicolai\\'s mesmerizing score is as memorable as it gets, and makes the film\\'s intensely eerie atmosphere even more haunting. The plot is ingeniously convoluted and full of red herrings, the tension-level increses with each passing minute. \"The Red Queen...\" begins creepy and it stays stunning to the last second. Overall, this is one of the films that I cannot find enough words of praise for. \"The Red Queen Kills Seven Times\" is an absolute masterpiece that easily ranks among the finest Gialli ever made, and a top-priority for every fan of Horror and/or Italian cinema to see. 10/10'\n",
            " b\"I didn't enjoy this film. I thought the acting wasn't very good and the story was boring. A 20year old computer saving the day? I thought that this was just slightly far fetched, even for a film. I couldn't figure out why they couldn't just turn it off, why not take a sledgehammer to it.<br /><br />Its a shame, but after the original film from the 80s you expected so much more than what was actually delivered. This film could have been a 21st century version of the old film, it wasn't. If that is what you want to watch, do not watch this film! <br /><br />Even if the old computer hadn't have turned up to save day, this would still, in my opinion, be a very very cheesy flick..\"\n",
            " b\"Allow me to just get to the bottom line here: I've got 3 kids, ages 5 to 10. I consider a trip to the theater a success when there are no talking animals. I've seen most of the children's videos in our collection at least 72 times. I can tell you when the film gets reversed in The Wizard of Oz, the over-18 sexual joke in El Dorado and the tragic flaw with the ending of Rudolph the Red-Nosed Reindeer. I could probably storyboard Nemo from memory alone.<br /><br />What makes me support the one child of mine (it varies) who suggests this title for the family movie of an evening? In a word: Showerman.<br /><br />Moment of silence...<br /><br />*sigh*\"]\n",
            "\n",
            "labels:  [1 0 1]\n"
          ],
          "name": "stdout"
        }
      ]
    },
    {
      "cell_type": "markdown",
      "metadata": {
        "id": "72pby2M9JJFs"
      },
      "source": [
        "# Create the text encoder"
      ]
    },
    {
      "cell_type": "code",
      "metadata": {
        "id": "KDugQjhhJKsV"
      },
      "source": [
        "VOCAB_SIZE = 1000\n",
        "encoder = tf.keras.layers.experimental.preprocessing.TextVectorization(\n",
        "    max_tokens=VOCAB_SIZE)\n",
        "encoder.adapt(train_dataset.map(lambda text, label: text))"
      ],
      "execution_count": null,
      "outputs": []
    },
    {
      "cell_type": "code",
      "metadata": {
        "colab": {
          "base_uri": "https://localhost:8080/"
        },
        "id": "otxKjYqAJMHr",
        "outputId": "668c5f3f-a699-4d22-b2d2-01621bd75db5"
      },
      "source": [
        "vocab = np.array(encoder.get_vocabulary())\n",
        "vocab[:20]"
      ],
      "execution_count": null,
      "outputs": [
        {
          "output_type": "execute_result",
          "data": {
            "text/plain": [
              "array(['', '[UNK]', 'the', 'and', 'a', 'of', 'to', 'is', 'in', 'it', 'i',\n",
              "       'this', 'that', 'br', 'was', 'as', 'for', 'with', 'movie', 'but'],\n",
              "      dtype='<U14')"
            ]
          },
          "metadata": {},
          "execution_count": 8
        }
      ]
    },
    {
      "cell_type": "code",
      "metadata": {
        "colab": {
          "base_uri": "https://localhost:8080/"
        },
        "id": "ku7dzUX_JQCG",
        "outputId": "9c6bee59-01aa-4388-c2c1-c41b6aaa13e7"
      },
      "source": [
        "encoded_example = encoder(example)[:3].numpy()\n",
        "encoded_example"
      ],
      "execution_count": null,
      "outputs": [
        {
          "output_type": "execute_result",
          "data": {
            "text/plain": [
              "array([[ 48,  24,  47, ...,   0,   0,   0],\n",
              "       [ 10, 153, 344, ...,   0,   0,   0],\n",
              "       [  1,  70,   6, ...,   0,   0,   0]])"
            ]
          },
          "metadata": {},
          "execution_count": 11
        }
      ]
    },
    {
      "cell_type": "code",
      "metadata": {
        "colab": {
          "base_uri": "https://localhost:8080/"
        },
        "id": "9HHiUC05JSVv",
        "outputId": "ae3fa0a3-0654-4a47-be9b-20aca03dcc02"
      },
      "source": [
        "for n in range(3):\n",
        "  print(\"Original: \", example[n].numpy())\n",
        "  print(\"Round-trip: \", \" \".join(vocab[encoded_example[n]]))\n",
        "  print()"
      ],
      "execution_count": null,
      "outputs": [
        {
          "output_type": "stream",
          "text": [
            "Original:  b'There are some films that every Horror fan owes himself (or herself) to see, and Emilio Miraglia\\'s \"La Dama Rossa Uccide Sette Volte\" aka. \"The Red Queen Kills Seven Times\" (1972) is definitely one of them. With Gialli and Gothic Tales being my two favorite sub-genres in Horror, I was looking forward to seeing this film for quite a while, and even though my expectations were high, this masterpiece surpassed my greatest hopes. Miraglia\\'s earlier Giallo, \"The Night Evelyn Came Out of the Grave\" (1971) was already a creepy and highly atmospheric film which successfully mixed Giallo with Gothic Horror, but it couldn\\'t possibly compare to this instant personal favorite. \"The Red Queen Kills Seven Times\" is, hands down, one of the most unique and overwhelming Italian Horror films ever made, and no lover of the genre could possibly consider missing it. An incredibly mesmerizing Giallo with strong Gothic elements, \"The Red Queen\" delivers everything one could hope for in either sub-genre: An inventive and incredibly compelling plot, spine-chilling suspense, a sublimely uncanny setting and a genuinely creepy atmosphere, eerily lush colors, stylish murders, a brilliant score, and, not least, a ravishing female cast lead by the stunningly beautiful Barbara Bouchet - this film simply is one of the most outstanding combinations of elegant beauty and pure terror.<br /><br />The film starts out incredibly in a beautiful Gothic castle in Germany. As little girls, Kitty Wildenbr\\xc3\\xbcck and her sister Evelyn have been fighting when their grandfather tells them the story behind an incredibly uncanny painting: Legend has it that a fiendish Red Lady is to return to the castle every hundred years and kill seven people. Fourteen years later, Kitty (Barbara Bouchet) has become a successful fashion photographer. Suddenly, people begin to get murdered... Director Miraglia had already proved his incredible talent for style, atmosphere and colorful creepiness with \"The Night Evelyn Came Out of the Grave\" and he makes use of these elements even far more effectively in this gem. \"The Red Queen Kills Seven Times\" is a feast for the eyes indeed, and one of the most overwhelming Italian Horror films both visually and plot-wise. The haunting painting in the Grandfather\\'s castle alone is capable of giving the viewer the goosebumps. The Red Lady (or Red Queen, as she is called in the English title) is arguably the most fiendish figure ever in a Giallo, the spine-chilling laughter that the murders are accompanied by would even be frightening on its own. <br /><br />A sexy female cast is always appreciated, especially in a Giallo, and this one is a prime example for that. The ravishing Barbara Bouchet (one of my favorite actresses) must be one of the most stunningly beautiful ladies ever to appear on screen, and she is a great actress too. Bouchet\\'s presence has graded up many Italian flicks, among other appearances she starred in three of the greatest Cult-masterpieces of Italian 70s cinema within one year (1972): Fernando Di Leo\\'s \"Milano Calibro 9\", Lucio Fulci\\'s Giallo-highlight \"Don\\'t Torture a Duckling\" and this unforgettable gem. Apart from the wonderful Miss Bouchet, the film\\'s gorgeous female cast includes sexy young Sybil Danning, Marina Malfatti (\"The Night Evelyn Came Out of the Grave\"), and other beauties who are not afraid to bare it for the camera. <br /><br />As the whole film, the murders are stylish and extremely elegant, yet frightening and macabre, and some of them are quite gory. Bruno Nicolai\\'s mesmerizing score is as memorable as it gets, and makes the film\\'s intensely eerie atmosphere even more haunting. The plot is ingeniously convoluted and full of red herrings, the tension-level increses with each passing minute. \"The Red Queen...\" begins creepy and it stays stunning to the last second. Overall, this is one of the films that I cannot find enough words of praise for. \"The Red Queen Kills Seven Times\" is an absolute masterpiece that easily ranks among the finest Gialli ever made, and a top-priority for every fan of Horror and/or Italian cinema to see. 10/10'\n",
            "Round-trip:  there are some films that every horror fan [UNK] himself or herself to see and [UNK] [UNK] la [UNK] [UNK] [UNK] [UNK] [UNK] [UNK] the red [UNK] [UNK] [UNK] times [UNK] is definitely one of them with [UNK] and [UNK] [UNK] being my two favorite [UNK] in horror i was looking forward to seeing this film for quite a while and even though my [UNK] were high this [UNK] [UNK] my greatest [UNK] [UNK] earlier [UNK] the night [UNK] came out of the [UNK] [UNK] was already a creepy and highly [UNK] film which [UNK] [UNK] [UNK] with [UNK] horror but it couldnt possibly [UNK] to this [UNK] personal favorite the red [UNK] [UNK] [UNK] times is hands down one of the most unique and [UNK] [UNK] horror films ever made and no [UNK] of the genre could possibly [UNK] missing it an incredibly [UNK] [UNK] with strong [UNK] elements the red [UNK] [UNK] everything one could hope for in either [UNK] an [UNK] and incredibly [UNK] plot [UNK] suspense a [UNK] [UNK] setting and a [UNK] creepy atmosphere [UNK] [UNK] [UNK] [UNK] [UNK] a brilliant score and not least a [UNK] female cast lead by the [UNK] beautiful [UNK] [UNK] this film simply is one of the most [UNK] [UNK] of [UNK] beauty and [UNK] [UNK] br the film starts out incredibly in a beautiful [UNK] [UNK] in [UNK] as little girls [UNK] [UNK] and her sister [UNK] have been fighting when their [UNK] tells them the story behind an incredibly [UNK] [UNK] [UNK] has it that a [UNK] red lady is to return to the [UNK] every [UNK] years and kill [UNK] people [UNK] years later [UNK] [UNK] [UNK] has become a [UNK] [UNK] [UNK] [UNK] people begin to get [UNK] director [UNK] had already [UNK] his [UNK] talent for style atmosphere and [UNK] [UNK] with the night [UNK] came out of the [UNK] and he makes use of these elements even far more [UNK] in this [UNK] the red [UNK] [UNK] [UNK] times is a [UNK] for the eyes indeed and one of the most [UNK] [UNK] horror films both [UNK] and [UNK] the [UNK] [UNK] in the [UNK] [UNK] alone is [UNK] of giving the viewer the [UNK] the red lady or red [UNK] as she is called in the english title is [UNK] the most [UNK] figure ever in a [UNK] the [UNK] [UNK] that the [UNK] are [UNK] by would even be [UNK] on its own br br a [UNK] female cast is always [UNK] especially in a [UNK] and this one is a [UNK] example for that the [UNK] [UNK] [UNK] one of my favorite [UNK] must be one of the most [UNK] beautiful [UNK] ever to appear on screen and she is a great actress too [UNK] [UNK] has [UNK] up many [UNK] [UNK] among other [UNK] she [UNK] in three of the greatest [UNK] of [UNK] 70s cinema within one year [UNK] [UNK] [UNK] [UNK] [UNK] [UNK] [UNK] [UNK] [UNK] [UNK] dont [UNK] a [UNK] and this [UNK] [UNK] apart from the wonderful miss [UNK] the films [UNK] female cast [UNK] [UNK] young [UNK] [UNK] [UNK] [UNK] the night [UNK] came out of the [UNK] and other [UNK] who are not [UNK] to [UNK] it for the camera br br as the whole film the [UNK] are [UNK] and extremely [UNK] yet [UNK] and [UNK] and some of them are quite [UNK] [UNK] [UNK] [UNK] score is as memorable as it gets and makes the films [UNK] [UNK] atmosphere even more [UNK] the plot is [UNK] [UNK] and full of red [UNK] the [UNK] [UNK] with each [UNK] minute the red [UNK] begins creepy and it [UNK] [UNK] to the last second overall this is one of the films that i cannot find enough words of [UNK] for the red [UNK] [UNK] [UNK] times is an [UNK] [UNK] that easily [UNK] among the [UNK] [UNK] ever made and a [UNK] for every fan of horror [UNK] [UNK] cinema to see [UNK]                                                                                                                                                                                                                                                                                        \n",
            "\n",
            "Original:  b\"I didn't enjoy this film. I thought the acting wasn't very good and the story was boring. A 20year old computer saving the day? I thought that this was just slightly far fetched, even for a film. I couldn't figure out why they couldn't just turn it off, why not take a sledgehammer to it.<br /><br />Its a shame, but after the original film from the 80s you expected so much more than what was actually delivered. This film could have been a 21st century version of the old film, it wasn't. If that is what you want to watch, do not watch this film! <br /><br />Even if the old computer hadn't have turned up to save day, this would still, in my opinion, be a very very cheesy flick..\"\n",
            "Round-trip:  i didnt enjoy this film i thought the acting wasnt very good and the story was boring a [UNK] old [UNK] [UNK] the day i thought that this was just [UNK] far [UNK] even for a film i couldnt figure out why they couldnt just turn it off why not take a [UNK] to itbr br its a shame but after the original film from the 80s you expected so much more than what was actually [UNK] this film could have been a [UNK] [UNK] version of the old film it wasnt if that is what you want to watch do not watch this film br br even if the old [UNK] [UNK] have turned up to save day this would still in my opinion be a very very cheesy flick                                                                                                                                                                                                                                                                                                                                                                                                                                                                                                                                                                                                                                                                                                                                                                                                                                                   \n",
            "\n",
            "Original:  b\"Allow me to just get to the bottom line here: I've got 3 kids, ages 5 to 10. I consider a trip to the theater a success when there are no talking animals. I've seen most of the children's videos in our collection at least 72 times. I can tell you when the film gets reversed in The Wizard of Oz, the over-18 sexual joke in El Dorado and the tragic flaw with the ending of Rudolph the Red-Nosed Reindeer. I could probably storyboard Nemo from memory alone.<br /><br />What makes me support the one child of mine (it varies) who suggests this title for the family movie of an evening? In a word: Showerman.<br /><br />Moment of silence...<br /><br />*sigh*\"\n",
            "Round-trip:  [UNK] me to just get to the [UNK] line here ive got 3 kids [UNK] 5 to 10 i [UNK] a [UNK] to the theater a [UNK] when there are no talking [UNK] ive seen most of the [UNK] [UNK] in our [UNK] at least [UNK] times i can tell you when the film gets [UNK] in the [UNK] of [UNK] the [UNK] sexual joke in [UNK] [UNK] and the [UNK] [UNK] with the ending of [UNK] the [UNK] [UNK] i could probably [UNK] [UNK] from [UNK] [UNK] br what makes me [UNK] the one child of [UNK] it [UNK] who [UNK] this title for the family movie of an [UNK] in a word [UNK] br moment of [UNK] br [UNK]                                                                                                                                                                                                                                                                                                                                                                                                                                                                                                                                                                                                                                                                                                                                                                                                                                                             \n",
            "\n"
          ],
          "name": "stdout"
        }
      ]
    },
    {
      "cell_type": "markdown",
      "metadata": {
        "id": "sCWwdOCPJVKL"
      },
      "source": [
        "# Create the model"
      ]
    },
    {
      "cell_type": "code",
      "metadata": {
        "id": "xiOd5EwcJW5U"
      },
      "source": [
        "model = tf.keras.Sequential([\n",
        "    encoder,\n",
        "    tf.keras.layers.Embedding(\n",
        "        input_dim=len(encoder.get_vocabulary()),\n",
        "        output_dim=64,\n",
        "        # Use masking to handle the variable sequence lengths\n",
        "        mask_zero=True),\n",
        "    tf.keras.layers.Bidirectional(tf.keras.layers.LSTM(64)),\n",
        "    tf.keras.layers.Dense(64, activation='relu'),\n",
        "    tf.keras.layers.Dense(1)\n",
        "])"
      ],
      "execution_count": null,
      "outputs": []
    },
    {
      "cell_type": "code",
      "metadata": {
        "colab": {
          "base_uri": "https://localhost:8080/"
        },
        "id": "hHnpT7jVJYuR",
        "outputId": "d5785588-d8df-41cb-989e-5f553046bb0b"
      },
      "source": [
        "print([layer.supports_masking for layer in model.layers])"
      ],
      "execution_count": null,
      "outputs": [
        {
          "output_type": "stream",
          "text": [
            "[False, True, True, True, True]\n"
          ],
          "name": "stdout"
        }
      ]
    },
    {
      "cell_type": "code",
      "metadata": {
        "colab": {
          "base_uri": "https://localhost:8080/"
        },
        "id": "ic5bN6hjJap9",
        "outputId": "92c85fe7-b0ac-4dff-9027-862d8c1b4cc1"
      },
      "source": [
        "# predict on a sample text without padding.\n",
        "\n",
        "sample_text = ('The movie was cool. The animation and the graphics '\n",
        "               'were out of this world. I would recommend this movie.')\n",
        "predictions = model.predict(np.array([sample_text]))\n",
        "print(predictions[0])"
      ],
      "execution_count": null,
      "outputs": [
        {
          "output_type": "stream",
          "text": [
            "[0.01307263]\n"
          ],
          "name": "stdout"
        }
      ]
    },
    {
      "cell_type": "code",
      "metadata": {
        "colab": {
          "base_uri": "https://localhost:8080/"
        },
        "id": "EmqxJu6aJfZi",
        "outputId": "76acc40f-f78e-489d-934e-60186801ee52"
      },
      "source": [
        "# predict on a sample text with padding\n",
        "\n",
        "padding = \"the \" * 2000\n",
        "predictions = model.predict(np.array([sample_text, padding]))\n",
        "print(predictions[0])"
      ],
      "execution_count": null,
      "outputs": [
        {
          "output_type": "stream",
          "text": [
            "[0.01307263]\n"
          ],
          "name": "stdout"
        }
      ]
    },
    {
      "cell_type": "code",
      "metadata": {
        "id": "0IJtPC_vJh9-"
      },
      "source": [
        "model.compile(loss=tf.keras.losses.BinaryCrossentropy(from_logits=True),\n",
        "              optimizer=tf.keras.optimizers.Adam(1e-4),\n",
        "              metrics=['accuracy'])"
      ],
      "execution_count": null,
      "outputs": []
    },
    {
      "cell_type": "markdown",
      "metadata": {
        "id": "SFza6qf8JkAQ"
      },
      "source": [
        "# Train the model"
      ]
    },
    {
      "cell_type": "code",
      "metadata": {
        "colab": {
          "base_uri": "https://localhost:8080/"
        },
        "id": "Y9pTDUXEJlFI",
        "outputId": "b61e261a-c5c6-4bc0-9b61-df1a121e874e"
      },
      "source": [
        "history = model.fit(train_dataset, epochs=10,\n",
        "                    validation_data=test_dataset,\n",
        "                    validation_steps=30)"
      ],
      "execution_count": null,
      "outputs": [
        {
          "output_type": "stream",
          "text": [
            "Epoch 1/10\n",
            "391/391 [==============================] - 838s 2s/step - loss: 0.6397 - accuracy: 0.5749 - val_loss: 0.4762 - val_accuracy: 0.7318\n",
            "Epoch 2/10\n",
            "391/391 [==============================] - 842s 2s/step - loss: 0.4055 - accuracy: 0.8098 - val_loss: 0.3920 - val_accuracy: 0.8219\n",
            "Epoch 3/10\n",
            "391/391 [==============================] - 842s 2s/step - loss: 0.3461 - accuracy: 0.8471 - val_loss: 0.3436 - val_accuracy: 0.8417\n",
            "Epoch 4/10\n",
            "391/391 [==============================] - 848s 2s/step - loss: 0.3234 - accuracy: 0.8601 - val_loss: 0.3297 - val_accuracy: 0.8510\n",
            "Epoch 5/10\n",
            "391/391 [==============================] - 831s 2s/step - loss: 0.3151 - accuracy: 0.8637 - val_loss: 0.3246 - val_accuracy: 0.8552\n",
            "Epoch 6/10\n",
            "391/391 [==============================] - 827s 2s/step - loss: 0.3068 - accuracy: 0.8694 - val_loss: 0.3196 - val_accuracy: 0.8625\n",
            "Epoch 7/10\n",
            "391/391 [==============================] - 826s 2s/step - loss: 0.3017 - accuracy: 0.8720 - val_loss: 0.3191 - val_accuracy: 0.8599\n",
            "Epoch 8/10\n",
            "391/391 [==============================] - 817s 2s/step - loss: 0.3000 - accuracy: 0.8712 - val_loss: 0.3257 - val_accuracy: 0.8594\n",
            "Epoch 9/10\n",
            "391/391 [==============================] - 812s 2s/step - loss: 0.2995 - accuracy: 0.8719 - val_loss: 0.3215 - val_accuracy: 0.8510\n",
            "Epoch 10/10\n",
            "391/391 [==============================] - 817s 2s/step - loss: 0.2976 - accuracy: 0.8725 - val_loss: 0.3210 - val_accuracy: 0.8620\n"
          ],
          "name": "stdout"
        }
      ]
    },
    {
      "cell_type": "code",
      "metadata": {
        "id": "jTscSqjZJn5t",
        "colab": {
          "base_uri": "https://localhost:8080/"
        },
        "outputId": "db9d0b3b-73f9-41ed-96be-45ce75cdb309"
      },
      "source": [
        "test_loss, test_acc = model.evaluate(test_dataset)\n",
        "\n",
        "print('Test Loss:', test_loss)\n",
        "print('Test Accuracy:', test_acc)"
      ],
      "execution_count": null,
      "outputs": [
        {
          "output_type": "stream",
          "text": [
            "391/391 [==============================] - 166s 424ms/step - loss: 0.3200 - accuracy: 0.8643\n",
            "Test Loss: 0.31999334692955017\n",
            "Test Accuracy: 0.8643199801445007\n"
          ],
          "name": "stdout"
        }
      ]
    },
    {
      "cell_type": "code",
      "metadata": {
        "id": "oj965A14JqEw",
        "colab": {
          "base_uri": "https://localhost:8080/",
          "height": 518
        },
        "outputId": "e43d6755-9589-4d1e-a1d7-d46a6080b13f"
      },
      "source": [
        "plt.figure(figsize=(16, 8))\n",
        "plt.subplot(1, 2, 1)\n",
        "plot_graphs(history, 'accuracy')\n",
        "plt.ylim(None, 1)\n",
        "plt.subplot(1, 2, 2)\n",
        "plot_graphs(history, 'loss')\n",
        "plt.ylim(0, None)"
      ],
      "execution_count": null,
      "outputs": [
        {
          "output_type": "execute_result",
          "data": {
            "text/plain": [
              "(0.0, 0.6567945018410682)"
            ]
          },
          "metadata": {},
          "execution_count": 19
        },
        {
          "output_type": "display_data",
          "data": {
            "image/png": "[encoded data removed]",
            "text/plain": [
              "<Figure size 1152x576 with 2 Axes>"
            ]
          },
          "metadata": {
            "needs_background": "light"
          }
        }
      ]
    },
    {
      "cell_type": "code",
      "metadata": {
        "id": "mIiqOAueJrsg"
      },
      "source": [
        "sample_text = ('The movie was cool. The animation and the graphics '\n",
        "               'were out of this world. I would recommend this movie.')\n",
        "predictions = model.predict(np.array([sample_text]))"
      ],
      "execution_count": null,
      "outputs": []
    },
    {
      "cell_type": "markdown",
      "metadata": {
        "id": "JcvJTb7NJtIf"
      },
      "source": [
        "# Stack two or more LSTM layers"
      ]
    },
    {
      "cell_type": "code",
      "metadata": {
        "id": "bkKxKkhGJu1J"
      },
      "source": [
        "model = tf.keras.Sequential([\n",
        "    encoder,\n",
        "    tf.keras.layers.Embedding(len(encoder.get_vocabulary()), 64, mask_zero=True),\n",
        "    tf.keras.layers.Bidirectional(tf.keras.layers.LSTM(64,  return_sequences=True)),\n",
        "    tf.keras.layers.Bidirectional(tf.keras.layers.LSTM(32)),\n",
        "    tf.keras.layers.Dense(64, activation='relu'),\n",
        "    tf.keras.layers.Dropout(0.5),\n",
        "    tf.keras.layers.Dense(1)\n",
        "])"
      ],
      "execution_count": null,
      "outputs": []
    },
    {
      "cell_type": "code",
      "metadata": {
        "id": "0t8X1o0mJv9_"
      },
      "source": [
        "model.compile(loss=tf.keras.losses.BinaryCrossentropy(from_logits=True),\n",
        "              optimizer=tf.keras.optimizers.Adam(1e-4),\n",
        "              metrics=['accuracy'])"
      ],
      "execution_count": null,
      "outputs": []
    },
    {
      "cell_type": "code",
      "metadata": {
        "id": "Cak33LI-Jx1s",
        "colab": {
          "base_uri": "https://localhost:8080/"
        },
        "outputId": "1b2a5859-a9af-4787-e033-d4c5e40eccb7"
      },
      "source": [
        "history = model.fit(train_dataset, epochs=10,\n",
        "                    validation_data=test_dataset,\n",
        "                    validation_steps=30)"
      ],
      "execution_count": null,
      "outputs": [
        {
          "output_type": "stream",
          "text": [
            "Epoch 1/10\n",
            "391/391 [==============================] - 1490s 4s/step - loss: 0.6513 - accuracy: 0.5577 - val_loss: 0.4760 - val_accuracy: 0.7896\n",
            "Epoch 2/10\n",
            "391/391 [==============================] - 1462s 4s/step - loss: 0.3936 - accuracy: 0.8269 - val_loss: 0.3722 - val_accuracy: 0.8510\n",
            "Epoch 3/10\n",
            "391/391 [==============================] - 1486s 4s/step - loss: 0.3378 - accuracy: 0.8555 - val_loss: 0.3332 - val_accuracy: 0.8500\n",
            "Epoch 4/10\n",
            "391/391 [==============================] - 1465s 4s/step - loss: 0.3213 - accuracy: 0.8621 - val_loss: 0.3373 - val_accuracy: 0.8682\n",
            "Epoch 5/10\n",
            "391/391 [==============================] - 1438s 4s/step - loss: 0.3135 - accuracy: 0.8676 - val_loss: 0.3262 - val_accuracy: 0.8594\n",
            "Epoch 6/10\n",
            "391/391 [==============================] - 1465s 4s/step - loss: 0.3071 - accuracy: 0.8699 - val_loss: 0.3245 - val_accuracy: 0.8510\n",
            "Epoch 7/10\n",
            "391/391 [==============================] - 1463s 4s/step - loss: 0.3044 - accuracy: 0.8690 - val_loss: 0.3216 - val_accuracy: 0.8594\n",
            "Epoch 8/10\n",
            "391/391 [==============================] - 1453s 4s/step - loss: 0.2980 - accuracy: 0.8734 - val_loss: 0.3200 - val_accuracy: 0.8521\n",
            "Epoch 9/10\n",
            "391/391 [==============================] - 1426s 4s/step - loss: 0.2966 - accuracy: 0.8710 - val_loss: 0.3296 - val_accuracy: 0.8427\n",
            "Epoch 10/10\n",
            "391/391 [==============================] - 1464s 4s/step - loss: 0.2956 - accuracy: 0.8728 - val_loss: 0.3235 - val_accuracy: 0.8557\n"
          ],
          "name": "stdout"
        }
      ]
    },
    {
      "cell_type": "code",
      "metadata": {
        "id": "2bRUfxP5JzQn",
        "colab": {
          "base_uri": "https://localhost:8080/"
        },
        "outputId": "313a0123-9bb8-4bda-f23c-a7f0ab9e8bed"
      },
      "source": [
        "test_loss, test_acc = model.evaluate(test_dataset)\n",
        "\n",
        "print('Test Loss:', test_loss)\n",
        "print('Test Accuracy:', test_acc)"
      ],
      "execution_count": null,
      "outputs": [
        {
          "output_type": "stream",
          "text": [
            "391/391 [==============================] - 324s 828ms/step - loss: 0.3170 - accuracy: 0.8614\n",
            "Test Loss: 0.3170270621776581\n",
            "Test Accuracy: 0.8614400029182434\n"
          ],
          "name": "stdout"
        }
      ]
    },
    {
      "cell_type": "code",
      "metadata": {
        "id": "jzeqO7UIJ0Vt",
        "colab": {
          "base_uri": "https://localhost:8080/"
        },
        "outputId": "0b45ed91-d1d9-49a1-a9c6-6ce9964f2642"
      },
      "source": [
        "# predict on a sample text without padding.\n",
        "\n",
        "sample_text = ('The movie was not good. The animation and the graphics '\n",
        "               'were terrible. I would not recommend this movie.')\n",
        "predictions = model.predict(np.array([sample_text]))\n",
        "print(predictions)"
      ],
      "execution_count": null,
      "outputs": [
        {
          "output_type": "stream",
          "text": [
            "[[-2.0159419]]\n"
          ],
          "name": "stdout"
        }
      ]
    },
    {
      "cell_type": "code",
      "metadata": {
        "id": "cJN2LR4yJ1qD",
        "colab": {
          "base_uri": "https://localhost:8080/",
          "height": 388
        },
        "outputId": "fa3c1f0e-fbe8-4540-82cb-72077d6ca2c1"
      },
      "source": [
        "plt.figure(figsize=(16, 6))\n",
        "plt.subplot(1, 2, 1)\n",
        "plot_graphs(history, 'accuracy')\n",
        "plt.subplot(1, 2, 2)\n",
        "plot_graphs(history, 'loss')"
      ],
      "execution_count": null,
      "outputs": [
        {
          "output_type": "display_data",
          "data": {
            "image/png": "[encoded data removed]",
            "text/plain": [
              "<Figure size 1152x432 with 2 Axes>"
            ]
          },
          "metadata": {
            "needs_background": "light"
          }
        }
      ]
    }
  ]
}